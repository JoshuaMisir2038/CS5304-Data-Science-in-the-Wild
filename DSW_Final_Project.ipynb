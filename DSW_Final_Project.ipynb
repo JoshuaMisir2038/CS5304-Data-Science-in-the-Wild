{
  "cells": [
    {
      "cell_type": "code",
      "execution_count": null,
      "metadata": {
        "colab": {
          "base_uri": "https://localhost:8080/"
        },
        "id": "cGJ5k3dSDNyY",
        "outputId": "b5659423-dd63-474e-d452-2f1852a16b70"
      },
      "outputs": [
        {
          "output_type": "stream",
          "name": "stdout",
          "text": [
            "Looking in indexes: https://pypi.org/simple, https://us-python.pkg.dev/colab-wheels/public/simple/\n",
            "Collecting pyspark\n",
            "  Downloading pyspark-3.4.0.tar.gz (310.8 MB)\n",
            "\u001b[2K     \u001b[90m━━━━━━━━━━━━━━━━━━━━━━━━━━━━━━━━━━━━━━━\u001b[0m \u001b[32m310.8/310.8 MB\u001b[0m \u001b[31m2.1 MB/s\u001b[0m eta \u001b[36m0:00:00\u001b[0m\n",
            "\u001b[?25h  Preparing metadata (setup.py) ... \u001b[?25l\u001b[?25hdone\n",
            "Requirement already satisfied: py4j==0.10.9.7 in /usr/local/lib/python3.10/dist-packages (from pyspark) (0.10.9.7)\n",
            "Building wheels for collected packages: pyspark\n",
            "  Building wheel for pyspark (setup.py) ... \u001b[?25l\u001b[?25hdone\n",
            "  Created wheel for pyspark: filename=pyspark-3.4.0-py2.py3-none-any.whl size=311317130 sha256=44e7168ce9b24d5b90b529ae5d376af1e906996b0d04c2ed8c7069d7c1f530b4\n",
            "  Stored in directory: /root/.cache/pip/wheels/7b/1b/4b/3363a1d04368e7ff0d408e57ff57966fcdf00583774e761327\n",
            "Successfully built pyspark\n",
            "Installing collected packages: pyspark\n",
            "Successfully installed pyspark-3.4.0\n"
          ]
        }
      ],
      "source": [
        "!pip install pyspark"
      ]
    },
    {
      "cell_type": "code",
      "execution_count": null,
      "metadata": {
        "id": "Kq5H0HlX9Qkh"
      },
      "outputs": [],
      "source": []
    },
    {
      "cell_type": "code",
      "execution_count": null,
      "metadata": {
        "id": "GxbpG7A78YJ_"
      },
      "outputs": [],
      "source": [
        "# https://drive.google.com/file/d/17y6tyGP_4MoPsdpxOToNXSlsNN42S6mD/view?usp=share_link "
      ]
    },
    {
      "cell_type": "markdown",
      "metadata": {
        "id": "JZo7x22ATOaK"
      },
      "source": [
        "# Load Data"
      ]
    },
    {
      "cell_type": "code",
      "execution_count": null,
      "metadata": {
        "id": "gtc0lASqN1y5"
      },
      "outputs": [],
      "source": [
        "# Helper Functions\n",
        "def rolling_mean(df, col_name, window_size):\n",
        "    rolling_mean = df[col_name].rolling(window_size).mean()\n",
        "    df[f\"Mean of {col_name} for {window_size} days\"] = rolling_mean\n",
        "    return df\n",
        "\n",
        "def rolling_std(df, col_name, window_size):\n",
        "    rolling_mean = df[col_name].rolling(window_size).std()\n",
        "    df[f\"Std of {col_name} for {window_size} days\"] = rolling_mean\n",
        "    return df"
      ]
    },
    {
      "cell_type": "code",
      "execution_count": null,
      "metadata": {
        "colab": {
          "base_uri": "https://localhost:8080/"
        },
        "id": "f_xSAbvSBg5X",
        "outputId": "5496489a-ecbb-4cd1-8085-3a3517083d33"
      },
      "outputs": [
        {
          "output_type": "stream",
          "name": "stderr",
          "text": [
            "/usr/local/lib/python3.10/dist-packages/pyspark/pandas/__init__.py:50: UserWarning: 'PYARROW_IGNORE_TIMEZONE' environment variable was not set. It is required to set this environment variable to '1' in both driver and executor sides if you use pyarrow>=2.0.0. pandas-on-Spark will set it for you but it does not work if there is a Spark context already launched.\n",
            "  warnings.warn(\n"
          ]
        },
        {
          "output_type": "stream",
          "name": "stdout",
          "text": [
            "Mounted at /content/drive\n"
          ]
        }
      ],
      "source": [
        "from pyspark.sql import SparkSession\n",
        "from pyspark import SparkFiles\n",
        "from pyspark.sql.functions import avg, col\n",
        "from pyspark.pandas.window import Rolling\n",
        "import pyspark.sql.functions as f\n",
        "\n",
        "# create a SparkSession\n",
        "spark = SparkSession.builder.config(\"spark.driver.memory\", \"15g\").appName(\"DSW_Final_Project\").getOrCreate()\n",
        "\n",
        "# mount your Google Drive to Colab\n",
        "from google.colab import drive\n",
        "drive.mount('/content/drive')\n",
        "\n",
        "# set the file path\n",
        "file_id = '17y6tyGP_4MoPsdpxOToNXSlsNN42S6mD'\n",
        "url = f'https://drive.google.com/uc?id={file_id}'\n",
        "\n",
        "# download the file from Google Drive to Colab\n",
        "spark.sparkContext.addFile(url)\n",
        "ts_file_path = '/content/drive/MyDrive/Data Science in the Wild - Final Project/BTC_Prices.csv'\n",
        "tw_file_path = '/content/drive/MyDrive//Data Science in the Wild - Final Project/mbsa.csv'\n",
        "\n",
        "\n",
        "# read the file into a Spark DataFrame\n",
        "time_series_df = spark.read.format(\"csv\").option(\"sep\", \"\\t\").option(\"header\", \"true\").load(ts_file_path)"
      ]
    },
    {
      "cell_type": "markdown",
      "metadata": {
        "id": "irCOqoCeE9k5"
      },
      "source": [
        "# Tweet Sentiment Analysis"
      ]
    },
    {
      "cell_type": "code",
      "execution_count": null,
      "metadata": {
        "id": "pH4-C7MxFc6g"
      },
      "outputs": [],
      "source": [
        "import re    # RegEx for removing non-letter characters\n",
        "from pyspark.sql.functions import col, udf\n",
        "from pyspark.sql.types import StringType\n",
        "\n",
        "\n",
        "# Function to remove URLs from text\n",
        "def remove_urls(text):\n",
        "     # Regular expression to match URLs\n",
        "    url_regex = r'http[s]?://(?:[a-zA-Z]|[0-9]|[$-_@.&+]|[!*\\(\\),]|(?:%[0-9a-fA-F][0-9a-fA-F]))+'\n",
        "    return re.sub(url_regex, '', text)\n",
        "\n",
        "remove_urls_udf = udf(lambda x:remove_urls(x),StringType())"
      ]
    },
    {
      "cell_type": "code",
      "execution_count": null,
      "metadata": {
        "colab": {
          "base_uri": "https://localhost:8080/"
        },
        "id": "w5gP1SqWF-C5",
        "outputId": "c9be0a30-4dd1-4367-e02f-61b547e8eb7c"
      },
      "outputs": [
        {
          "output_type": "stream",
          "name": "stdout",
          "text": [
            "DataFrame[Date: string, text: string, Sentiment: string]\n"
          ]
        }
      ],
      "source": [
        "from pyspark.sql.functions import col, to_date, unix_timestamp\n",
        "\n",
        "tweets_spark_df = spark.read.format(\"csv\").option(\"sep\", \",\").option(\"header\", \"true\").load(tw_file_path)\n",
        "\n",
        "print(tweets_spark_df)\n",
        "\n",
        "\n",
        "#tweets_spark_df = tweets_spark_df.withColumn(\"user_followers\",tweets_spark_df.user_followers.cast('int'))\n",
        "#tweets_spark_df = tweets_spark_df.filter(tweets_spark_df.user_followers > 0)\n",
        "tweets_spark_df = tweets_spark_df.filter(tweets_spark_df.text.isNotNull())\n",
        "tweets_spark_df = tweets_spark_df.withColumn(\"Date\", to_date(unix_timestamp('Date', 'yyyy-MM-dd').cast(\"timestamp\"))).filter(col('Date').isNotNull())\n",
        "# tweets_spark_df = tweets_spark_df.filter(col(\"date\").between(startDate, endDate))\n",
        "#tweets_spark_df = tweets_spark_df.withColumn(\"clean_text\", remove_urls_udf(tweets_spark_df.text))\n",
        "# tweets_spark_df.count()"
      ]
    },
    {
      "cell_type": "code",
      "execution_count": null,
      "metadata": {
        "colab": {
          "base_uri": "https://localhost:8080/"
        },
        "id": "PxDywWwaQJtd",
        "outputId": "c52401cd-f6da-42f1-da6a-a21d40c12e7b"
      },
      "outputs": [
        {
          "output_type": "stream",
          "name": "stdout",
          "text": [
            "+----------+-------------------------------------+---------+\n",
            "|      Date|                                 text|Sentiment|\n",
            "+----------+-------------------------------------+---------+\n",
            "|2019-05-27|                 È appena uscito u...| Positive|\n",
            "|2019-05-27|                 Cardano: Digitize...| Positive|\n",
            "|2019-05-27|                 Another Test twee...| Positive|\n",
            "|2019-05-27|                 Current Crypto Pr...|     null|\n",
            "|2019-05-27|                 Spiv (Nosar Baz):...|     null|\n",
            "|2019-05-27|                 #btc inceldiği ye...| Positive|\n",
            "|2019-05-27|                 @nwoodfine We hav...|     null|\n",
            "|2019-05-27|                 @pedronauck como ...| Positive|\n",
            "|2019-05-27|ブラジルはまぁ置いといてもドイツは...|     null|\n",
            "|2019-05-27|                 CHANGE IS COMING....|     null|\n",
            "|2019-05-27|                 One of the useful...|     null|\n",
            "|2019-05-27|                 Invested my Life ...| Positive|\n",
            "|2019-05-27|                 Bitcoin Price Hit...| Positive|\n",
            "|2019-05-27|               【毎日プレゼント企画】|     null|\n",
            "|2019-05-27|                 #Countdown #Comin...|     null|\n",
            "|2019-05-27|                 You have roughly ...| Positive|\n",
            "|2019-05-27|                 BTC IS GOING CRAZ...|     null|\n",
            "|2019-05-27|                 Crypto prices ros...|     null|\n",
            "|2019-05-27|                 https://t.co/6gs2...| Positive|\n",
            "|2019-05-27|                 Bitcoin SV (BSV) ...| Positive|\n",
            "|2019-05-27|                 Global coin (GC) ...| Positive|\n",
            "|2019-05-27|                 Bitcoin Whales Mo...| Positive|\n",
            "|2019-05-27|                               🤣🤣🤣| Positive|\n",
            "|2019-05-27|                 As Intel $INTC Va...| Positive|\n",
            "|2019-05-27|                 This is true. Cry...| Positive|\n",
            "|2019-05-27|                 @APompliano If by...| Positive|\n",
            "|2019-05-27|                 Pls save cuttoff ...| Positive|\n",
            "|2019-05-27|                 bitcoin may pump ...| Positive|\n",
            "|2019-05-27|                 @keyvandavani @Tu...|     null|\n",
            "|2019-05-27|                 Setelah bekerja s...|     null|\n",
            "|2019-05-27|                 @MarkMarkafv @SrC...| Positive|\n",
            "|2019-05-27|                 #Elections2019 #V...| Positive|\n",
            "|2019-05-27|                 ⏰ LIQUIDATION on ...|     null|\n",
            "|2019-05-27|                 ⏰ LIQUIDATION on ...|     null|\n",
            "|2019-05-27|                 #LTCprice surges ...| Positive|\n",
            "|2019-05-27|                 mahachi👏👏👏 htt...| Positive|\n",
            "|2019-05-27|                 It's beginning! h...| Positive|\n",
            "|2019-05-27|                 @PacoBersabe Bitc...| Positive|\n",
            "|2019-05-27|                 Done Sell. $SRN-B...| Positive|\n",
            "|2019-05-27|     200万円で買って40万円で売った...| Positive|\n",
            "|2019-05-27|                 I hope that the p...|     null|\n",
            "|2019-05-27|                 Spiv (Nosar Baz):...|     null|\n",
            "|2019-05-27|                     dash/btc: 0.0188|     null|\n",
            "|2019-05-27|                 Top 5 #cryptocurr...|     null|\n",
            "|2019-05-27|                 A new content fou...| Positive|\n",
            "|2019-05-27|                 ICYMI: Ruden Hold...| Positive|\n",
            "|2019-05-27|                 @CNBCFastMoney Gr...| Positive|\n",
            "|2019-05-27|                         @CryptoBull |     null|\n",
            "|2019-05-27|                 Bitcoin zet opmar...| Positive|\n",
            "|2019-05-27|                 $BTX @Bitcore_BTX...|     null|\n",
            "|2019-05-27|                 Find the best Cry...| Positive|\n",
            "|2019-05-27|            05/27 20:50 現在のビッ...|     null|\n",
            "|2019-05-27|                 Bitcoin dispara, ...|     null|\n",
            "|2019-05-27|                  #VRPARK #ICO #TOKEN| Positive|\n",
            "|2019-05-27|                 Kryptowährungen s...| Positive|\n",
            "|2019-05-27|                 ♦️Huobi Wallet Ev...|     null|\n",
            "|2019-05-27|                 All users is very...| Positive|\n",
            "|2019-05-27|               為替(19/05/27 20:50...|     null|\n",
            "|2019-05-27|                 Tomorrow's KIZUNA...|     null|\n",
            "|2019-05-27|                 BTC/POA (Binance)...| Positive|\n",
            "|2019-05-27|                                  BTC|     null|\n",
            "|2019-05-27|                 this channel call...|     null|\n",
            "|2019-05-27|                 Day # 2 Making no...|     null|\n",
            "|2019-05-27|                 @CryptosBatman Bi...| Positive|\n",
            "|2019-05-27|                                  BTC|     null|\n",
            "|2019-05-27|                 @illespal @mdudas...| Positive|\n",
            "|2019-05-27|                 @trendcizgisi Bit...| Positive|\n",
            "|2019-05-27|                 Does anyone have ...| Positive|\n",
            "|2019-05-27|                            #MATIC 👊|     null|\n",
            "|2019-05-27|                 @candles_ste Le B...| Positive|\n",
            "|2019-05-27|                 Bitcoin rallies 1...| Positive|\n",
            "|2019-05-27|                 Die Cyberwährung ...| Positive|\n",
            "|2019-05-27|                 #BTCUSD, 4H en mi...|     null|\n",
            "|2019-05-27|                 Shangai Composite...|     null|\n",
            "|2019-05-27|                 Well said. This i...|     null|\n",
            "|2019-05-27|                 #Bitcoin on @Whee...| Positive|\n",
            "|2019-05-27|                 I didn’t buy enou...|     null|\n",
            "|2019-05-27|                 Someone check on ...|     null|\n",
            "|2019-05-27|                 Keep your eye on ...|     null|\n",
            "|2019-05-27|                 (15 Great Ways fo...| Positive|\n",
            "|2019-05-27|                 Aklı olmayandan h...|     null|\n",
            "|2019-05-27|                 @ElizabethNoll @r...| Positive|\n",
            "|2019-05-27|                 Current Crypto Pr...|     null|\n",
            "|2019-05-27|                 The latest The Cr...| Positive|\n",
            "|2019-05-27|                 How to Buy Liteco...| Positive|\n",
            "|2019-05-27|                 @KelvinK06741463 ...| Positive|\n",
            "|2019-05-27|                 @JohnLafrance loo...|     null|\n",
            "|2019-05-27|                 @AliveCasino ,@AR...| Positive|\n",
            "|2019-05-27|                 Why Analysts are ...| Positive|\n",
            "|2019-05-27|                    Omslagpunt nabij?|     null|\n",
            "|2019-05-27|                           $IDOL(BTC)|     null|\n",
            "|2019-05-27|                 Bitcoin Climbs to...| Positive|\n",
            "|2019-05-27|                 The latest BLOCKC...| Positive|\n",
            "|2019-05-27|                 Kryptowährungen s...| Positive|\n",
            "|2019-05-27|                         New release!|     null|\n",
            "|2019-05-27|                 Belensay ÇİN de y...|     null|\n",
            "|2019-05-27|                 Win + ❤️ https://...| Positive|\n",
            "|2019-05-27|                 Bitcoin prices hi...|     null|\n",
            "|2019-05-27|                             焼けた笑|     null|\n",
            "|2019-05-27|                 Get ready for a s...| Positive|\n",
            "+----------+-------------------------------------+---------+\n",
            "only showing top 100 rows\n",
            "\n"
          ]
        }
      ],
      "source": [
        "tweets_spark_df.show(100)"
      ]
    },
    {
      "cell_type": "code",
      "execution_count": null,
      "metadata": {
        "id": "iL_K4ZVAQveQ"
      },
      "outputs": [],
      "source": [
        "# Select the first 1000 rows from tweets_spark_df\n",
        "thousand = tweets_spark_df.limit(1000)\n"
      ]
    },
    {
      "cell_type": "code",
      "execution_count": null,
      "metadata": {
        "id": "9uVe9Ei8Lm1X"
      },
      "outputs": [],
      "source": [
        "thousand.select(\"Date\").distinct().count()\n",
        "#tweets_spark_df.select('Date').distinct().count()from pyspark.sql.functions import col, to_date\n",
        "\n",
        "thousand = thousand.withColumn(\"Date\", to_date(col(\"Date\"), \"yyyy-MM-dd\"))\n"
      ]
    },
    {
      "cell_type": "code",
      "execution_count": null,
      "metadata": {
        "id": "WXl1blTXZ3sI"
      },
      "outputs": [],
      "source": [
        "thousand = thousand.select('Date', 'text')\n",
        "# selected_tweets_spark_df.show()"
      ]
    },
    {
      "cell_type": "code",
      "execution_count": null,
      "metadata": {
        "id": "mYB2ycRNSjhR"
      },
      "outputs": [],
      "source": [
        "from pyspark.sql.functions import col, to_date\n",
        "\n",
        "thousand = thousand.withColumn(\"Date\", to_date(col(\"Date\"), \"yyyy-MM-dd \"))\n"
      ]
    },
    {
      "cell_type": "code",
      "execution_count": null,
      "metadata": {
        "colab": {
          "base_uri": "https://localhost:8080/"
        },
        "id": "NFdHkVZwG0Ld",
        "outputId": "881ce4a0-09ba-4588-882a-906d7a16a608"
      },
      "outputs": [
        {
          "output_type": "stream",
          "name": "stdout",
          "text": [
            "+----------+----------+\n",
            "|min(Date) |max(Date) |\n",
            "+----------+----------+\n",
            "|2019-05-27|2019-05-27|\n",
            "+----------+----------+\n",
            "\n"
          ]
        }
      ],
      "source": [
        "from pyspark.sql.functions import min, max\n",
        "from pyspark.sql import SparkSession\n",
        "\n",
        "spark = SparkSession.builder.config(\"spark.sql.legacy.timeParserPolicy\", \"LEGACY\").getOrCreate()\n",
        "\n",
        "thousand.agg(min('Date'), max('Date')).show(truncate=False)\n"
      ]
    },
    {
      "cell_type": "code",
      "execution_count": null,
      "metadata": {
        "colab": {
          "base_uri": "https://localhost:8080/"
        },
        "id": "v8mIjQsZaxX-",
        "outputId": "8ee3b857-caea-45b3-de31-6c34b7b745f7"
      },
      "outputs": [
        {
          "output_type": "stream",
          "name": "stdout",
          "text": [
            "Looking in indexes: https://pypi.org/simple, https://us-python.pkg.dev/colab-wheels/public/simple/\n",
            "Collecting transformers\n",
            "  Downloading transformers-4.29.1-py3-none-any.whl (7.1 MB)\n",
            "\u001b[2K     \u001b[90m━━━━━━━━━━━━━━━━━━━━━━━━━━━━━━━━━━━━━━━━\u001b[0m \u001b[32m7.1/7.1 MB\u001b[0m \u001b[31m96.3 MB/s\u001b[0m eta \u001b[36m0:00:00\u001b[0m\n",
            "\u001b[?25hRequirement already satisfied: filelock in /usr/local/lib/python3.10/dist-packages (from transformers) (3.12.0)\n",
            "Collecting huggingface-hub<1.0,>=0.14.1 (from transformers)\n",
            "  Downloading huggingface_hub-0.14.1-py3-none-any.whl (224 kB)\n",
            "\u001b[2K     \u001b[90m━━━━━━━━━━━━━━━━━━━━━━━━━━━━━━━━━━━━━━\u001b[0m \u001b[32m224.5/224.5 kB\u001b[0m \u001b[31m28.4 MB/s\u001b[0m eta \u001b[36m0:00:00\u001b[0m\n",
            "\u001b[?25hRequirement already satisfied: numpy>=1.17 in /usr/local/lib/python3.10/dist-packages (from transformers) (1.22.4)\n",
            "Requirement already satisfied: packaging>=20.0 in /usr/local/lib/python3.10/dist-packages (from transformers) (23.1)\n",
            "Requirement already satisfied: pyyaml>=5.1 in /usr/local/lib/python3.10/dist-packages (from transformers) (6.0)\n",
            "Requirement already satisfied: regex!=2019.12.17 in /usr/local/lib/python3.10/dist-packages (from transformers) (2022.10.31)\n",
            "Requirement already satisfied: requests in /usr/local/lib/python3.10/dist-packages (from transformers) (2.27.1)\n",
            "Collecting tokenizers!=0.11.3,<0.14,>=0.11.1 (from transformers)\n",
            "  Downloading tokenizers-0.13.3-cp310-cp310-manylinux_2_17_x86_64.manylinux2014_x86_64.whl (7.8 MB)\n",
            "\u001b[2K     \u001b[90m━━━━━━━━━━━━━━━━━━━━━━━━━━━━━━━━━━━━━━━━\u001b[0m \u001b[32m7.8/7.8 MB\u001b[0m \u001b[31m116.9 MB/s\u001b[0m eta \u001b[36m0:00:00\u001b[0m\n",
            "\u001b[?25hRequirement already satisfied: tqdm>=4.27 in /usr/local/lib/python3.10/dist-packages (from transformers) (4.65.0)\n",
            "Requirement already satisfied: fsspec in /usr/local/lib/python3.10/dist-packages (from huggingface-hub<1.0,>=0.14.1->transformers) (2023.4.0)\n",
            "Requirement already satisfied: typing-extensions>=3.7.4.3 in /usr/local/lib/python3.10/dist-packages (from huggingface-hub<1.0,>=0.14.1->transformers) (4.5.0)\n",
            "Requirement already satisfied: urllib3<1.27,>=1.21.1 in /usr/local/lib/python3.10/dist-packages (from requests->transformers) (1.26.15)\n",
            "Requirement already satisfied: certifi>=2017.4.17 in /usr/local/lib/python3.10/dist-packages (from requests->transformers) (2022.12.7)\n",
            "Requirement already satisfied: charset-normalizer~=2.0.0 in /usr/local/lib/python3.10/dist-packages (from requests->transformers) (2.0.12)\n",
            "Requirement already satisfied: idna<4,>=2.5 in /usr/local/lib/python3.10/dist-packages (from requests->transformers) (3.4)\n",
            "Installing collected packages: tokenizers, huggingface-hub, transformers\n",
            "Successfully installed huggingface-hub-0.14.1 tokenizers-0.13.3 transformers-4.29.1\n"
          ]
        }
      ],
      "source": [
        "!pip install transformers"
      ]
    },
    {
      "cell_type": "code",
      "execution_count": null,
      "metadata": {
        "id": "2O-qwCATaPSD"
      },
      "outputs": [],
      "source": [
        "from transformers import pipeline\n",
        "\n",
        "# Load the BERT sentiment analysis pipeline\n",
        "sentiment_classifier = pipeline(\"sentiment-analysis\", model=\"cardiffnlp/twitter-roberta-base-sentiment\")\n",
        "\n",
        "def extract_sentiment(text):\n",
        "    return sentiment_classifier(text, truncation=True, padding=True)[0]['score']\n",
        "\n",
        "extract_sentiment_udf = udf(lambda x:extract_sentiment(x),StringType())\n",
        "\n",
        "thousand = thousand.withColumn(\"sentiment_score\", extract_sentiment_udf(thousand.text))\n",
        "\n",
        "# Perform sentiment analysis on each row of text in the 'cleantext' column\n",
        "# sentiment_predictions = sentiment_classifier(tweets_spark_df['clean_text'], truncation=True, padding=True)\n"
      ]
    },
    {
      "cell_type": "code",
      "execution_count": null,
      "metadata": {
        "id": "AjBh3v0Ke37i"
      },
      "outputs": [],
      "source": [
        "thousand = thousand.withColumn(\"sentiment_score\", col('sentiment_score').cast('double'))\n",
        "thousand = thousand.groupBy(\"Date\").mean(\"sentiment_score\")"
      ]
    },
    {
      "cell_type": "code",
      "execution_count": null,
      "metadata": {
        "colab": {
          "base_uri": "https://localhost:8080/"
        },
        "id": "MkMBmTxnmVEs",
        "outputId": "2a88776f-8620-4921-d169-fc6a82ad1866"
      },
      "outputs": [
        {
          "output_type": "stream",
          "name": "stderr",
          "text": [
            "/usr/local/lib/python3.10/dist-packages/pyspark/sql/dataframe.py:5249: FutureWarning: DataFrame.to_pandas_on_spark is deprecated. Use DataFrame.pandas_api instead.\n",
            "  warnings.warn(\n"
          ]
        }
      ],
      "source": [
        "pyspark_pandas_thousand = thousand.to_pandas_on_spark()"
      ]
    },
    {
      "cell_type": "code",
      "source": [
        "from pyspark.sql.functions import col, avg\n",
        "from pyspark.sql.window import Window\n",
        "from pyspark.sql.functions import stddev\n",
        "\n",
        "def rolling_mean(df, col_name, window_size):\n",
        "    window = Window.orderBy('Date').rowsBetween(-(window_size-1), 0)\n",
        "    rolling_mean_col = avg(col(col_name)).over(window)\n",
        "    df = df.withColumn(f\"Mean of {col_name} for {window_size} days\", rolling_mean_col)\n",
        "    return df\n",
        "\n",
        "def rolling_std(df, col_name, window_size):\n",
        "    window = Window.orderBy('Date').rowsBetween(-(window_size-1), 0)\n",
        "    rolling_std_col = stddev(col(col_name)).over(window)\n",
        "    df = df.withColumn(f\"Std of {col_name} for {window_size} days\", rolling_std_col)\n",
        "    return df\n"
      ],
      "metadata": {
        "id": "njTI18RHU1mj"
      },
      "execution_count": null,
      "outputs": []
    },
    {
      "cell_type": "code",
      "execution_count": null,
      "metadata": {
        "id": "cDDoLODdyVqu"
      },
      "outputs": [],
      "source": [
        "pyspark_pandas_thousand = rolling_mean(thousand, \"avg(sentiment_score)\", 3)\n",
        "pyspark_pandas_thousand = rolling_mean(thousand, \"avg(sentiment_score)\", 7)\n",
        "pyspark_pandas_thousand = rolling_mean(thousand, \"avg(sentiment_score)\", 30)\n",
        "pyspark_pandas_thousand = rolling_std(thousand, \"avg(sentiment_score)\", 3)\n",
        "pyspark_pandas_thousand = rolling_std(thousand, \"avg(sentiment_score)\", 7)\n",
        "pyspark_pandas_thousand = rolling_std(thousand, \"avg(sentiment_score)\", 30)"
      ]
    },
    {
      "cell_type": "code",
      "execution_count": null,
      "metadata": {
        "colab": {
          "base_uri": "https://localhost:8080/"
        },
        "id": "YLO36fBV8tHK",
        "outputId": "0a952912-c860-4ff6-e7bc-f9e1a2d8c2ba"
      },
      "outputs": [
        {
          "output_type": "stream",
          "name": "stdout",
          "text": [
            "+----------+--------------------+---------------------------------------+\n",
            "|      Date|avg(sentiment_score)|Std of avg(sentiment_score) for 30 days|\n",
            "+----------+--------------------+---------------------------------------+\n",
            "|2019-05-27|  0.7721435754895211|                                   null|\n",
            "+----------+--------------------+---------------------------------------+\n",
            "\n"
          ]
        }
      ],
      "source": [
        "pyspark_pandas_thousand.show(5)"
      ]
    },
    {
      "cell_type": "code",
      "execution_count": null,
      "metadata": {
        "id": "2dI3LPDfHcCp"
      },
      "outputs": [],
      "source": [
        "#len(pyspark_pandas_thousand.index)"
      ]
    },
    {
      "cell_type": "code",
      "execution_count": null,
      "metadata": {
        "id": "hJ9wId1k9UxG",
        "colab": {
          "base_uri": "https://localhost:8080/",
          "height": 312
        },
        "outputId": "c0cb357c-5080-41e1-9fca-3c5a102ecc5f"
      },
      "outputs": [
        {
          "output_type": "error",
          "ename": "TypeError",
          "evalue": "ignored",
          "traceback": [
            "\u001b[0;31m---------------------------------------------------------------------------\u001b[0m",
            "\u001b[0;31mTypeError\u001b[0m                                 Traceback (most recent call last)",
            "\u001b[0;32m<ipython-input-62-092ad6d4c63f>\u001b[0m in \u001b[0;36m<cell line: 1>\u001b[0;34m()\u001b[0m\n\u001b[0;32m----> 1\u001b[0;31m \u001b[0mpyspark_pandas_thousand\u001b[0m \u001b[0;34m=\u001b[0m \u001b[0mspark\u001b[0m\u001b[0;34m.\u001b[0m\u001b[0mcreateDataFrame\u001b[0m\u001b[0;34m(\u001b[0m\u001b[0mpyspark_pandas_thousand\u001b[0m\u001b[0;34m)\u001b[0m\u001b[0;34m\u001b[0m\u001b[0;34m\u001b[0m\u001b[0m\n\u001b[0m",
            "\u001b[0;32m/usr/local/lib/python3.10/dist-packages/pyspark/sql/session.py\u001b[0m in \u001b[0;36mcreateDataFrame\u001b[0;34m(self, data, schema, samplingRatio, verifySchema)\u001b[0m\n\u001b[1;32m   1222\u001b[0m         \u001b[0mself\u001b[0m\u001b[0;34m.\u001b[0m\u001b[0m_jvm\u001b[0m\u001b[0;34m.\u001b[0m\u001b[0mSparkSession\u001b[0m\u001b[0;34m.\u001b[0m\u001b[0msetActiveSession\u001b[0m\u001b[0;34m(\u001b[0m\u001b[0mself\u001b[0m\u001b[0;34m.\u001b[0m\u001b[0m_jsparkSession\u001b[0m\u001b[0;34m)\u001b[0m\u001b[0;34m\u001b[0m\u001b[0;34m\u001b[0m\u001b[0m\n\u001b[1;32m   1223\u001b[0m         \u001b[0;32mif\u001b[0m \u001b[0misinstance\u001b[0m\u001b[0;34m(\u001b[0m\u001b[0mdata\u001b[0m\u001b[0;34m,\u001b[0m \u001b[0mDataFrame\u001b[0m\u001b[0;34m)\u001b[0m\u001b[0;34m:\u001b[0m\u001b[0;34m\u001b[0m\u001b[0;34m\u001b[0m\u001b[0m\n\u001b[0;32m-> 1224\u001b[0;31m             \u001b[0;32mraise\u001b[0m \u001b[0mTypeError\u001b[0m\u001b[0;34m(\u001b[0m\u001b[0;34m\"data is already a DataFrame\"\u001b[0m\u001b[0;34m)\u001b[0m\u001b[0;34m\u001b[0m\u001b[0;34m\u001b[0m\u001b[0m\n\u001b[0m\u001b[1;32m   1225\u001b[0m \u001b[0;34m\u001b[0m\u001b[0m\n\u001b[1;32m   1226\u001b[0m         \u001b[0;32mif\u001b[0m \u001b[0misinstance\u001b[0m\u001b[0;34m(\u001b[0m\u001b[0mschema\u001b[0m\u001b[0;34m,\u001b[0m \u001b[0mstr\u001b[0m\u001b[0;34m)\u001b[0m\u001b[0;34m:\u001b[0m\u001b[0;34m\u001b[0m\u001b[0;34m\u001b[0m\u001b[0m\n",
            "\u001b[0;31mTypeError\u001b[0m: data is already a DataFrame"
          ]
        }
      ],
      "source": [
        "pyspark_pandas_thousand = spark.createDataFrame(pyspark_pandas_thousand)"
      ]
    },
    {
      "cell_type": "code",
      "execution_count": null,
      "metadata": {
        "colab": {
          "base_uri": "https://localhost:8080/"
        },
        "id": "YYLW2z5m9wwU",
        "outputId": "cf4dc719-8009-4376-b171-92aba5a0440f"
      },
      "outputs": [
        {
          "output_type": "execute_result",
          "data": {
            "text/plain": [
              "['Date', 'avg(sentiment_score)', 'Std of avg(sentiment_score) for 30 days']"
            ]
          },
          "metadata": {},
          "execution_count": 63
        }
      ],
      "source": [
        "pyspark_pandas_thousand.columns"
      ]
    },
    {
      "cell_type": "markdown",
      "metadata": {
        "id": "pzxsVbPHEyar"
      },
      "source": [
        "# Time Series"
      ]
    },
    {
      "cell_type": "code",
      "execution_count": null,
      "metadata": {
        "colab": {
          "base_uri": "https://localhost:8080/",
          "height": 461
        },
        "id": "r3MIC9xLExsw",
        "outputId": "809a7b11-46de-4dde-b28b-b506b144b22b"
      },
      "outputs": [
        {
          "output_type": "error",
          "ename": "AnalysisException",
          "evalue": "ignored",
          "traceback": [
            "\u001b[0;31m---------------------------------------------------------------------------\u001b[0m",
            "\u001b[0;31mAnalysisException\u001b[0m                         Traceback (most recent call last)",
            "\u001b[0;32m<ipython-input-59-5cc63fd49184>\u001b[0m in \u001b[0;36m<cell line: 11>\u001b[0;34m()\u001b[0m\n\u001b[1;32m     10\u001b[0m \u001b[0mdollar_cols\u001b[0m \u001b[0;34m=\u001b[0m \u001b[0;34m[\u001b[0m\u001b[0;34m\"Open*\"\u001b[0m\u001b[0;34m,\u001b[0m \u001b[0;34m\"close\"\u001b[0m\u001b[0;34m,\u001b[0m \u001b[0;34m\"High**\"\u001b[0m\u001b[0;34m,\u001b[0m \u001b[0;34m\"low\"\u001b[0m\u001b[0;34m,\u001b[0m \u001b[0;34m\"volume\"\u001b[0m\u001b[0;34m]\u001b[0m\u001b[0;34m\u001b[0m\u001b[0;34m\u001b[0m\u001b[0m\n\u001b[1;32m     11\u001b[0m \u001b[0;32mfor\u001b[0m \u001b[0mcol\u001b[0m \u001b[0;32min\u001b[0m \u001b[0mdollar_cols\u001b[0m\u001b[0;34m:\u001b[0m\u001b[0;34m\u001b[0m\u001b[0;34m\u001b[0m\u001b[0m\n\u001b[0;32m---> 12\u001b[0;31m     \u001b[0mtime_series_df\u001b[0m \u001b[0;34m=\u001b[0m \u001b[0mtime_series_df\u001b[0m\u001b[0;34m.\u001b[0m\u001b[0mwithColumn\u001b[0m\u001b[0;34m(\u001b[0m\u001b[0mcol\u001b[0m\u001b[0;34m,\u001b[0m \u001b[0mf\u001b[0m\u001b[0;34m.\u001b[0m\u001b[0mregexp_replace\u001b[0m\u001b[0;34m(\u001b[0m\u001b[0mcol\u001b[0m\u001b[0;34m,\u001b[0m \u001b[0;34m\"\\$\"\u001b[0m\u001b[0;34m,\u001b[0m \u001b[0;34m\"\"\u001b[0m\u001b[0;34m)\u001b[0m\u001b[0;34m)\u001b[0m\u001b[0;34m\u001b[0m\u001b[0;34m\u001b[0m\u001b[0m\n\u001b[0m\u001b[1;32m     13\u001b[0m     \u001b[0mtime_series_df\u001b[0m \u001b[0;34m=\u001b[0m \u001b[0mtime_series_df\u001b[0m\u001b[0;34m.\u001b[0m\u001b[0mwithColumn\u001b[0m\u001b[0;34m(\u001b[0m\u001b[0mcol\u001b[0m\u001b[0;34m,\u001b[0m \u001b[0mf\u001b[0m\u001b[0;34m.\u001b[0m\u001b[0mregexp_replace\u001b[0m\u001b[0;34m(\u001b[0m\u001b[0mcol\u001b[0m\u001b[0;34m,\u001b[0m \u001b[0;34m\",\"\u001b[0m\u001b[0;34m,\u001b[0m \u001b[0;34m\"\"\u001b[0m\u001b[0;34m)\u001b[0m\u001b[0;34m)\u001b[0m\u001b[0;34m\u001b[0m\u001b[0;34m\u001b[0m\u001b[0m\n\u001b[1;32m     14\u001b[0m     \u001b[0mtime_series_df\u001b[0m \u001b[0;34m=\u001b[0m \u001b[0mtime_series_df\u001b[0m\u001b[0;34m.\u001b[0m\u001b[0mwithColumn\u001b[0m\u001b[0;34m(\u001b[0m\u001b[0mcol\u001b[0m\u001b[0;34m,\u001b[0m \u001b[0mtime_series_df\u001b[0m\u001b[0;34m[\u001b[0m\u001b[0mcol\u001b[0m\u001b[0;34m]\u001b[0m\u001b[0;34m.\u001b[0m\u001b[0mcast\u001b[0m\u001b[0;34m(\u001b[0m\u001b[0;34m\"float\"\u001b[0m\u001b[0;34m)\u001b[0m\u001b[0;34m)\u001b[0m\u001b[0;34m\u001b[0m\u001b[0;34m\u001b[0m\u001b[0m\n",
            "\u001b[0;32m/usr/local/lib/python3.10/dist-packages/pyspark/sql/dataframe.py\u001b[0m in \u001b[0;36mwithColumn\u001b[0;34m(self, colName, col)\u001b[0m\n\u001b[1;32m   4787\u001b[0m                 \u001b[0mmessage_parameters\u001b[0m\u001b[0;34m=\u001b[0m\u001b[0;34m{\u001b[0m\u001b[0;34m\"arg_name\"\u001b[0m\u001b[0;34m:\u001b[0m \u001b[0;34m\"col\"\u001b[0m\u001b[0;34m,\u001b[0m \u001b[0;34m\"arg_type\"\u001b[0m\u001b[0;34m:\u001b[0m \u001b[0mtype\u001b[0m\u001b[0;34m(\u001b[0m\u001b[0mcol\u001b[0m\u001b[0;34m)\u001b[0m\u001b[0;34m.\u001b[0m\u001b[0m__name__\u001b[0m\u001b[0;34m}\u001b[0m\u001b[0;34m,\u001b[0m\u001b[0;34m\u001b[0m\u001b[0;34m\u001b[0m\u001b[0m\n\u001b[1;32m   4788\u001b[0m             )\n\u001b[0;32m-> 4789\u001b[0;31m         \u001b[0;32mreturn\u001b[0m \u001b[0mDataFrame\u001b[0m\u001b[0;34m(\u001b[0m\u001b[0mself\u001b[0m\u001b[0;34m.\u001b[0m\u001b[0m_jdf\u001b[0m\u001b[0;34m.\u001b[0m\u001b[0mwithColumn\u001b[0m\u001b[0;34m(\u001b[0m\u001b[0mcolName\u001b[0m\u001b[0;34m,\u001b[0m \u001b[0mcol\u001b[0m\u001b[0;34m.\u001b[0m\u001b[0m_jc\u001b[0m\u001b[0;34m)\u001b[0m\u001b[0;34m,\u001b[0m \u001b[0mself\u001b[0m\u001b[0;34m.\u001b[0m\u001b[0msparkSession\u001b[0m\u001b[0;34m)\u001b[0m\u001b[0;34m\u001b[0m\u001b[0;34m\u001b[0m\u001b[0m\n\u001b[0m\u001b[1;32m   4790\u001b[0m \u001b[0;34m\u001b[0m\u001b[0m\n\u001b[1;32m   4791\u001b[0m     \u001b[0;32mdef\u001b[0m \u001b[0mwithColumnRenamed\u001b[0m\u001b[0;34m(\u001b[0m\u001b[0mself\u001b[0m\u001b[0;34m,\u001b[0m \u001b[0mexisting\u001b[0m\u001b[0;34m:\u001b[0m \u001b[0mstr\u001b[0m\u001b[0;34m,\u001b[0m \u001b[0mnew\u001b[0m\u001b[0;34m:\u001b[0m \u001b[0mstr\u001b[0m\u001b[0;34m)\u001b[0m \u001b[0;34m->\u001b[0m \u001b[0;34m\"DataFrame\"\u001b[0m\u001b[0;34m:\u001b[0m\u001b[0;34m\u001b[0m\u001b[0;34m\u001b[0m\u001b[0m\n",
            "\u001b[0;32m/usr/local/lib/python3.10/dist-packages/py4j/java_gateway.py\u001b[0m in \u001b[0;36m__call__\u001b[0;34m(self, *args)\u001b[0m\n\u001b[1;32m   1320\u001b[0m \u001b[0;34m\u001b[0m\u001b[0m\n\u001b[1;32m   1321\u001b[0m         \u001b[0manswer\u001b[0m \u001b[0;34m=\u001b[0m \u001b[0mself\u001b[0m\u001b[0;34m.\u001b[0m\u001b[0mgateway_client\u001b[0m\u001b[0;34m.\u001b[0m\u001b[0msend_command\u001b[0m\u001b[0;34m(\u001b[0m\u001b[0mcommand\u001b[0m\u001b[0;34m)\u001b[0m\u001b[0;34m\u001b[0m\u001b[0;34m\u001b[0m\u001b[0m\n\u001b[0;32m-> 1322\u001b[0;31m         return_value = get_return_value(\n\u001b[0m\u001b[1;32m   1323\u001b[0m             answer, self.gateway_client, self.target_id, self.name)\n\u001b[1;32m   1324\u001b[0m \u001b[0;34m\u001b[0m\u001b[0m\n",
            "\u001b[0;32m/usr/local/lib/python3.10/dist-packages/pyspark/errors/exceptions/captured.py\u001b[0m in \u001b[0;36mdeco\u001b[0;34m(*a, **kw)\u001b[0m\n\u001b[1;32m    173\u001b[0m                 \u001b[0;31m# Hide where the exception came from that shows a non-Pythonic\u001b[0m\u001b[0;34m\u001b[0m\u001b[0;34m\u001b[0m\u001b[0m\n\u001b[1;32m    174\u001b[0m                 \u001b[0;31m# JVM exception message.\u001b[0m\u001b[0;34m\u001b[0m\u001b[0;34m\u001b[0m\u001b[0m\n\u001b[0;32m--> 175\u001b[0;31m                 \u001b[0;32mraise\u001b[0m \u001b[0mconverted\u001b[0m \u001b[0;32mfrom\u001b[0m \u001b[0;32mNone\u001b[0m\u001b[0;34m\u001b[0m\u001b[0;34m\u001b[0m\u001b[0m\n\u001b[0m\u001b[1;32m    176\u001b[0m             \u001b[0;32melse\u001b[0m\u001b[0;34m:\u001b[0m\u001b[0;34m\u001b[0m\u001b[0;34m\u001b[0m\u001b[0m\n\u001b[1;32m    177\u001b[0m                 \u001b[0;32mraise\u001b[0m\u001b[0;34m\u001b[0m\u001b[0;34m\u001b[0m\u001b[0m\n",
            "\u001b[0;31mAnalysisException\u001b[0m: [UNRESOLVED_COLUMN.WITH_SUGGESTION] A column or function parameter with name `Open*` cannot be resolved. Did you mean one of the following? [`open`, `close`, `high`, `low`, `volume`].;\n'Project [open#626, high#627, low#628, close#629, volume#630, marketCap#631, timestamp#632, regexp_replace('Open*, \\$, , 1) AS Open*#640]\n+- Relation [open#626,high#627,low#628,close#629,volume#630,marketCap#631,timestamp#632] csv\n"
          ]
        }
      ],
      "source": [
        "from pyspark.sql import SparkSession\n",
        "\n",
        "spark = SparkSession.builder.getOrCreate()\n",
        "\n",
        "time_series_df = spark.read.format(\"csv\")\\\n",
        "    .option(\"header\", \"true\")\\\n",
        "    .option(\"delimiter\", \";\")\\\n",
        "    .load(\"BTC_Prices.csv\")\n",
        "\n",
        "dollar_cols = [\"Open*\", \"close\", \"High**\", \"low\", \"volume\"]\n",
        "for col in dollar_cols:\n",
        "    time_series_df = time_series_df.withColumn(col, f.regexp_replace(col, \"\\$\", \"\"))\n",
        "    time_series_df = time_series_df.withColumn(col, f.regexp_replace(col, \",\", \"\"))\n",
        "    time_series_df = time_series_df.withColumn(col, time_series_df[col].cast(\"float\"))\n",
        "\n",
        "# convert PySpark DataFrame to Pandas DataFrame\n",
        "pandas_time_series_df = time_series_df.to_pandas_spark()\n",
        "\n",
        "# Rolling Means\n",
        "\n",
        "pandas_time_series_df = rolling_mean(pandas_time_series_df, \"Open*\", 3)\n",
        "pandas_time_series_df = rolling_mean(pandas_time_series_df, \"Open*\", 7)\n",
        "pandas_time_series_df = rolling_mean(pandas_time_series_df, \"Open*\", 30)\n",
        "\n",
        "pandas_time_series_df = rolling_mean(pandas_time_series_df, \"Close**\", 3)\n",
        "pandas_time_series_df = rolling_mean(pandas_time_series_df, \"Close**\", 7)\n",
        "pandas_time_series_df = rolling_mean(pandas_time_series_df, \"Close**\", 30)\n",
        "\n",
        "pandas_time_series_df = rolling_mean(pandas_time_series_df, \"Volume\", 3)\n",
        "pandas_time_series_df = rolling_mean(pandas_time_series_df, \"Volume\", 7)\n",
        "pandas_time_series_df = rolling_mean(pandas_time_series_df, \"Volume\", 30)\n",
        "\n",
        "# Rolling STDs\n",
        "\n",
        "pandas_time_series_df = rolling_std(pandas_time_series_df, \"Open*\", 3)\n",
        "pandas_time_series_df = rolling_std(pandas_time_series_df, \"Open*\", 7)\n",
        "pandas_time_series_df = rolling_std(pandas_time_series_df, \"Open*\", 30)\n",
        "\n",
        "pandas_time_series_df = rolling_std(pandas_time_series_df, \"Close**\", 3)\n",
        "pandas_time_series_df = rolling_std(pandas_time_series_df, \"Close**\", 7)\n",
        "pandas_time_series_df = rolling_std(pandas_time_series_df, \"Close**\", 30)\n",
        "\n",
        "pandas_time_series_df = rolling_std(pandas_time_series_df, \"Volume\", 3)\n",
        "pandas_time_series_df = rolling_std(pandas_time_series_df, \"Volume\", 7)\n",
        "pandas_time_series_df = rolling_std(pandas_time_series_df, \"Volume\", 30)\n",
        "\n",
        "# Avg Price and Previous Day Avg price\n",
        "# pandas_time_series_df['Avg Price'] = (pandas_time_series_df['High'] + pandas_time_series_df['Low']) / 2\n",
        "# pandas_time_series_df['Prev Day Avg Price'] = pandas_time_series_df['Avg Price'].shift(1)\n",
        "\n",
        "#  Previous Day close price\n",
        "pandas_time_series_df['Prev Day Close Price'] = pandas_time_series_df['Close**'].shift(1)\n",
        "pandas_time_series_df['Next Day Close Price'] = pandas_time_series_df['Close**'].shift(-1)"
      ]
    },
    {
      "cell_type": "code",
      "execution_count": null,
      "metadata": {
        "id": "ZI9BzFJwR6wh"
      },
      "outputs": [],
      "source": [
        "from pyspark.sql import SparkSession\n",
        "\n",
        "spark = SparkSession.builder.getOrCreate()\n",
        "\n",
        "time_series_df = spark.read.format(\"csv\")\\\n",
        "    .option(\"header\", \"true\")\\\n",
        "    .option(\"delimiter\", \";\")\\\n",
        "    .load(\"BTC_Prices.csv\")\n",
        "\n",
        "dollar_cols = [\"Open\", \"High\", \"Low\", \"Close\", \"Volume\", \"marketCap\", \"timestamp\"]\n",
        "for col in dollar_cols:\n",
        "    time_series_df = time_series_df.withColumn(col, f.regexp_replace(col, \"\\$\", \"\"))\n",
        "    time_series_df = time_series_df.withColumn(col, f.regexp_replace(col, \",\", \"\"))\n",
        "    time_series_df = time_series_df.withColumn(col, time_series_df[col].cast(\"float\"))\n",
        "\n",
        "\n",
        "\n",
        "# convert PySpark DataFrame to Pandas DataFrame\n",
        "pandas_time_series_df = time_series_df.toPandas()\n",
        "\n",
        "# Rolling Means\n",
        "\n",
        "pandas_time_series_df = rolling_mean(pandas_time_series_df, \"Open\", 3)\n",
        "pandas_time_series_df = rolling_mean(pandas_time_series_df, \"Open\", 7)\n",
        "pandas_time_series_df = rolling_mean(pandas_time_series_df, \"Open\", 30)\n",
        "\n",
        "pandas_time_series_df = rolling_mean(pandas_time_series_df, \"Close\", 3)\n",
        "pandas_time_series_df = rolling_mean(pandas_time_series_df, \"Close\", 7)\n",
        "pandas_time_series_df = rolling_mean(pandas_time_series_df, \"Close\", 30)\n",
        "\n",
        "pandas_time_series_df = rolling_mean(pandas_time_series_df, \"Volume\", 3)\n",
        "pandas_time_series_df = rolling_mean(pandas_time_series_df, \"Volume\", 7)\n",
        "pandas_time_series_df = rolling_mean(pandas_time_series_df, \"Volume\", 30)\n",
        "\n",
        "# Rolling STDs\n",
        "\n",
        "pandas_time_series_df = rolling_std(pandas_time_series_df, \"Open\", 3)\n",
        "pandas_time_series_df = rolling_std(pandas_time_series_df, \"Open\", 7)\n",
        "pandas_time_series_df = rolling_std(pandas_time_series_df, \"Open\", 30)\n",
        "\n",
        "pandas_time_series_df = rolling_std(pandas_time_series_df, \"Close\", 3)\n",
        "pandas_time_series_df = rolling_std(pandas_time_series_df, \"Close\", 7)\n",
        "pandas_time_series_df = rolling_std(pandas_time_series_df, \"Close\", 30)\n",
        "\n",
        "pandas_time_series_df = rolling_std(pandas_time_series_df, \"Volume\", 3)\n",
        "pandas_time_series_df = rolling_std(pandas_time_series_df, \"Volume\", 7)\n",
        "pandas_time_series_df = rolling_std(pandas_time_series_df, \"Volume\", 30)\n",
        "\n",
        "# Avg Price and Previous Day Avg price\n",
        "# pandas_time_series_df['Avg Price'] = (pandas_time_series_df['High'] + pandas_time_series_df['Low']) / 2\n",
        "# pandas_time_series_df['Prev Day Avg Price'] = pandas_time_series_df['Avg Price'].shift(1)\n",
        "\n",
        "#  Previous Day close price\n",
        "pandas_time_series_df['Prev Day Close Price'] = pandas_time_series_df['Close'].shift(1)\n",
        "pandas_time_series_df['Next Day Close Price'] = pandas_time_series_df['Close'].shift(-1)"
      ]
    },
    {
      "cell_type": "code",
      "execution_count": null,
      "metadata": {
        "id": "L3cvf5upVCpw"
      },
      "outputs": [],
      "source": [
        "from pyspark.ml.feature import VectorAssembler"
      ]
    },
    {
      "cell_type": "code",
      "execution_count": null,
      "metadata": {
        "id": "Z2D0jxaWibvl"
      },
      "outputs": [],
      "source": [
        "time_series_spark_df = spark.createDataFrame(pandas_time_series_df)"
      ]
    },
    {
      "cell_type": "code",
      "execution_count": null,
      "metadata": {
        "id": "mnY1sWs5Yy5c"
      },
      "outputs": [],
      "source": [
        "startDate = \"2017-01-01\"\n",
        "endDate = \"2019-01-01\""
      ]
    },
    {
      "cell_type": "code",
      "execution_count": null,
      "metadata": {
        "id": "sCekzsakUxLh"
      },
      "outputs": [],
      "source": [
        "from pyspark.sql.functions import col, to_date, unix_timestamp\n",
        "time_series_spark_df = time_series_spark_df.withColumn(\"Date\", to_date(unix_timestamp(col('timestamp').cast(\"string\"), 'MMM dd, yyyy').cast(\"timestamp\"))).filter(col(\"Date\").between(startDate, endDate))\n",
        "\n",
        "\n",
        "#time_series_spark_df = time_series_spark_df.withColumn(\"Date\", to_date(unix_timestamp('timestamp', 'MMM dd, yyyy').cast(\"timestamp\"))).filter(col(\"Date\").between(startDate, endDate))\n"
      ]
    },
    {
      "cell_type": "code",
      "execution_count": null,
      "metadata": {
        "id": "GvvoQRTkrAn8"
      },
      "outputs": [],
      "source": [
        "from pyspark.sql.functions import col\n",
        "time_series_spark_df = time_series_spark_df.withColumn(\"Date\", to_date(unix_timestamp('date', 'MMM dd, yyyy').cast(\"timestamp\"))).filter(col(\"Date\").between(startDate, endDate))\n",
        "\n",
        "# clean_spark_df.show()\n",
        "# clean_spark_df.agg({'Date': 'min'}).show()\n",
        "# clean_spark_df.agg({'Date': 'max'}).show()"
      ]
    },
    {
      "cell_type": "code",
      "execution_count": null,
      "metadata": {
        "id": "1WfA5ak79gKk"
      },
      "outputs": [],
      "source": [
        "joined_spark_df = time_series_spark_df.join(rw_es_tweets_spark_df,time_series_spark_df.Date ==  rw_es_tweets_spark_df.date,\"inner\").drop(rw_es_tweets_spark_df.date)"
      ]
    },
    {
      "cell_type": "code",
      "execution_count": null,
      "metadata": {
        "id": "j3DMaD-B-LIQ"
      },
      "outputs": [],
      "source": [
        "joined_spark_df = joined_spark_df.na.drop(\"any\")\n",
        "joined_spark_df.count()"
      ]
    },
    {
      "cell_type": "code",
      "execution_count": null,
      "metadata": {
        "id": "8mt8L78WUQnX"
      },
      "outputs": [],
      "source": [
        "input_features = [col.name for col in joined_spark_df.schema if col.name != 'Date' and col.name != 'Next Day Close Price']\n",
        "print(len(input_features))"
      ]
    },
    {
      "cell_type": "code",
      "execution_count": null,
      "metadata": {
        "id": "dLhIBQtHqWi5"
      },
      "outputs": [],
      "source": [
        "assembler = VectorAssembler(\n",
        "    inputCols=input_features,\n",
        "    outputCol=\"features\")\n",
        "\n",
        "featurized_spark_df = assembler.transform(joined_spark_df)\n",
        "featurized_spark_df"
      ]
    },
    {
      "cell_type": "code",
      "execution_count": null,
      "metadata": {
        "colab": {
          "base_uri": "https://localhost:8080/"
        },
        "id": "EVQSQFeDqh9f",
        "outputId": "5414135a-b3ac-454c-bc8a-55d27bede459"
      },
      "outputs": [
        {
          "name": "stdout",
          "output_type": "stream",
          "text": [
            "+----------+--------------+--------------+--------------+--------------+---------------+-----------------+------------------------+------------------------+-------------------------+--------------------------+--------------------------+---------------------------+-------------------------+-------------------------+--------------------------+-----------------------+-----------------------+------------------------+-------------------------+-------------------------+--------------------------+------------------------+------------------------+-------------------------+--------------------+--------------------+--------------------+---------------------------------------+---------------------------------------+----------------------------------------+--------------------------------------+--------------------------------------+---------------------------------------+--------------------------------------------------------------------------------------------------------------------------------------------------------------------------------------------------------------------------------------------------------------------------------------------------------------------------------------------------------------------------------------------------------------------------------------------------------------------------------------------------------------------------------------------------------------------------------------------------------------+\n",
            "|Date      |Open*         |High          |Low           |Close**       |Volume         |Market Cap       |Mean of Open* for 3 days|Mean of Open* for 7 days|Mean of Open* for 30 days|Mean of Close** for 3 days|Mean of Close** for 7 days|Mean of Close** for 30 days|Mean of Volume for 3 days|Mean of Volume for 7 days|Mean of Volume for 30 days|Std of Open* for 3 days|Std of Open* for 7 days|Std of Open* for 30 days|Std of Close** for 3 days|Std of Close** for 7 days|Std of Close** for 30 days|Std of Volume for 3 days|Std of Volume for 7 days|Std of Volume for 30 days|Prev Day Close Price|Next Day Close Price|avg(sentiment_score)|Mean of avg(sentiment_score) for 3 days|Mean of avg(sentiment_score) for 7 days|Mean of avg(sentiment_score) for 30 days|Std of avg(sentiment_score) for 3 days|Std of avg(sentiment_score) for 7 days|Std of avg(sentiment_score) for 30 days|features                                                                                                                                                                                                                                                                                                                                                                                                                                                                                                                                                                                                      |\n",
            "+----------+--------------+--------------+--------------+--------------+---------------+-----------------+------------------------+------------------------+-------------------------+--------------------------+--------------------------+---------------------------+-------------------------+-------------------------+--------------------------+-----------------------+-----------------------+------------------------+-------------------------+-------------------------+--------------------------+------------------------+------------------------+-------------------------+--------------------+--------------------+--------------------+---------------------------------------+---------------------------------------+----------------------------------------+--------------------------------------+--------------------------------------+---------------------------------------+--------------------------------------------------------------------------------------------------------------------------------------------------------------------------------------------------------------------------------------------------------------------------------------------------------------------------------------------------------------------------------------------------------------------------------------------------------------------------------------------------------------------------------------------------------------------------------------------------------------+\n",
            "|2021-11-25|57165.421875  |59367.96875   |57146.69140625|57274.6796875 |3.4284015616E10|1.081500172288E12|56620.713541666664      |56672.162388392855      |51184.333203125          |55219.83984375            |56421.40122767857         |50849.385026041666         |3.5551873706666664E10    |3.438716225828571E10     |3.23146498048E10          |2654.186705705909      |1795.0991563502014     |4073.6264863302827      |1885.3324177756344       |1583.1177244300811       |3852.9866480182773        |5.731108122049031E9     |4.557737707905727E9     |7.416302690936332E9      |53569.76171875      |56280.4296875       |0.7469243210904738  |0.7352112649600859                     |0.7224352004554733                     |0.7443872736362006                      |0.010680028906647937                  |0.017200185870152918                  |0.03551733449771725                    |[57165.421875,59367.96875,57146.69140625,57274.6796875,3.4284015616E10,1.081500172288E12,56620.713541666664,56672.162388392855,51184.333203125,55219.83984375,56421.40122767857,50849.385026041666,3.5551873706666664E10,3.438716225828571E10,3.23146498048E10,2654.186705705909,1795.0991563502014,4073.6264863302827,1885.3324177756344,1583.1177244300811,3852.9866480182773,5.731108122049031E9,4.557737707905727E9,7.416302690936332E9,53569.76171875,0.7469243210904738,0.7352112649600859,0.7224352004554733,0.7443872736362006,0.010680028906647937,0.017200185870152918,0.03551733449771725]         |\n",
            "|2022-03-16|39335.5703125 |41465.44921875|39022.3515625 |41143.9296875 |3.9616917504E10|7.81131579392E11 |40473.75                |41103.93415178572       |43511.565104166664       |41298.819010416664        |41538.81919642857         |43533.76549479167          |3.2016027648E10          |2.7494439789714287E10    |2.84432825344E10          |990.5522453551955      |897.6435180889822      |2474.121096691838       |445.55593456419234       |572.1507818435994        |2442.8903000568694        |9.04678622791102E9      |7.844538154688097E9     |6.429208333391366E9      |40951.37890625      |39338.7890625       |0.7396575161596624  |0.7489472077347692                     |0.7805236309312783                     |0.7645366465867104                      |0.027635703280079627                  |0.07119956211959862                   |0.06405896449950606                    |[39335.5703125,41465.44921875,39022.3515625,41143.9296875,3.9616917504E10,7.81131579392E11,40473.75,41103.93415178572,43511.565104166664,41298.819010416664,41538.81919642857,43533.76549479167,3.2016027648E10,2.7494439789714287E10,2.84432825344E10,990.5522453551955,897.6435180889822,2474.121096691838,445.55593456419234,572.1507818435994,2442.8903000568694,9.04678622791102E9,7.844538154688097E9,6.429208333391366E9,40951.37890625,0.7396575161596624,0.7489472077347692,0.7805236309312783,0.7645366465867104,0.027635703280079627,0.07119956211959862,0.06405896449950606]                      |\n",
            "|2022-03-15|39664.25      |39794.62890625|38310.2109375 |39338.7890625 |2.3934001152E10|7.4682171392E11  |40046.88671875          |40902.52678571428       |43461.699479166666       |40478.032552083336        |41107.38783482143         |43513.87447916667          |2.8520173568E10          |2.6341489517714287E10    |2.8429682517333332E10     |961.5392160576421      |1050.5894612999905     |2537.412388489706       |991.3000288804986        |897.1211310828737        |2475.4119211620678        |9.658111744214489E9     |7.662139740739947E9     |6.438607792929881E9      |41143.9296875       |39666.76171875      |0.7616359740495682  |0.7428155927599254                     |0.786111793903424                      |0.7657561164553426                      |0.01745691822578911                   |0.06731748156573122                   |0.06362815761339734                    |[39664.25,39794.62890625,38310.2109375,39338.7890625,2.3934001152E10,7.4682171392E11,40046.88671875,40902.52678571428,43461.699479166666,40478.032552083336,41107.38783482143,43513.87447916667,2.8520173568E10,2.6341489517714287E10,2.8429682517333332E10,961.5392160576421,1050.5894612999905,2537.412388489706,991.3000288804986,897.1211310828737,2475.4119211620678,9.658111744214489E9,7.662139740739947E9,6.438607792929881E9,41143.9296875,0.7616359740495682,0.7428155927599254,0.786111793903424,0.7657561164553426,0.01745691822578911,0.06731748156573122,0.06362815761339734]                   |\n",
            "|2022-02-16|44578.28125   |44578.28125   |43456.69140625|43961.859375  |1.979254784E10 |8.33531936768E11 |43022.493489583336      |40671.94029017857       |39980.64296875           |41510.283854166664        |39777.95591517857         |39861.838671875            |2.3116406101333332E10    |2.2314272329142857E10    |2.5510103893333332E10     |2163.2877172334697     |2729.4230986130365     |2201.8918077380767      |2138.2088468812008       |2221.4403021508306       |2033.6839048485117        |3.2314097893302283E9    |5.335634315240064E9     |7.265008179534127E9      |40538.01171875      |44575.19921875      |0.8903273791074753  |0.7882646941229807                     |0.7612691905548038                     |0.7483228079384375                      |0.09042166534595321                   |0.06291883689178049                   |0.047286569619651365                   |[44578.28125,44578.28125,43456.69140625,43961.859375,1.979254784E10,8.33531936768E11,43022.493489583336,40671.94029017857,39980.64296875,41510.283854166664,39777.95591517857,39861.838671875,2.3116406101333332E10,2.2314272329142857E10,2.5510103893333332E10,2163.2877172334697,2729.4230986130365,2201.8918077380767,2138.2088468812008,2221.4403021508306,2033.6839048485117,3.2314097893302283E9,5.335634315240064E9,7.265008179534127E9,40538.01171875,0.8903273791074753,0.7882646941229807,0.7612691905548038,0.7483228079384375,0.09042166534595321,0.06291883689178049,0.047286569619651365]       |\n",
            "|2022-03-19|41794.6484375 |42316.55078125|41602.671875  |42190.6484375 |1.9664852992E10|8.01123991552E11 |41744.0625              |42217.40959821428       |43494.50677083333        |41505.489583333336        |42582.556919642855        |43427.046614583334         |2.1469447509333332E10    |2.6181906432E10          |2.7164267758933334E10     |474.6665810913763      |995.9857204531811      |2484.086627914859       |599.4094812535163        |1249.2998074683333       |2562.716551052972         |2.734419603059882E9     |5.152446238030752E9     |6.471901988643996E9      |41247.8203125       |41801.1484375       |0.8505814671516418  |0.7839583191202908                     |0.7768546987027491                     |0.7696856209770304                      |0.0587345387571074                    |0.0483662758880248                    |0.0651382856229276                     |[41794.6484375,42316.55078125,41602.671875,42190.6484375,1.9664852992E10,8.01123991552E11,41744.0625,42217.40959821428,43494.50677083333,41505.489583333336,42582.556919642855,43427.046614583334,2.1469447509333332E10,2.6181906432E10,2.7164267758933334E10,474.6665810913763,995.9857204531811,2484.086627914859,599.4094812535163,1249.2998074683333,2562.716551052972,2.734419603059882E9,5.152446238030752E9,6.471901988643996E9,41247.8203125,0.8505814671516418,0.7839583191202908,0.7768546987027491,0.7696856209770304,0.0587345387571074,0.0483662758880248,0.0651382856229276]                    |\n",
            "|2022-04-18|39721.19921875|40986.3203125 |38696.19140625|40826.2109375 |3.3705181184E10|7.7633060864E11  |40683.703125            |40452.22544642857       |36432.242447916666       |41234.446614583336        |40418.1484375             |36124.97317708333          |2.8942639786666668E10    |2.6330691584E10          |3.531856370346667E10      |899.0179381230556      |825.1484643255646      |4304.3225216068395      |359.3216671179054        |865.6889168550583        |4391.698519363555         |4.312113757639029E9     |7.258629067933405E9     |1.3441293850153193E10    |41502.75            |39716.94921875      |0.7331178379910332  |0.8029435040837242                     |0.7893473859430374                     |0.7775783359834161                      |0.08579005112397993                   |0.08872951233227996                   |0.07103443494757623                    |[39721.19921875,40986.3203125,38696.19140625,40826.2109375,3.3705181184E10,7.7633060864E11,40683.703125,40452.22544642857,36432.242447916666,41234.446614583336,40418.1484375,36124.97317708333,2.8942639786666668E10,2.6330691584E10,3.531856370346667E10,899.0179381230556,825.1484643255646,4304.3225216068395,359.3216671179054,865.6889168550583,4391.698519363555,4.312113757639029E9,7.258629067933405E9,1.3441293850153193E10,41502.75,0.7331178379910332,0.8029435040837242,0.7893473859430374,0.7775783359834161,0.08579005112397993,0.08872951233227996,0.07103443494757623]                       |\n",
            "|2022-04-21|41371.51953125|42893.578125  |40063.828125  |40527.359375  |3.5372785664E10|7.70762276864E11 |40545.365885416664      |39879.400111607145      |35345.73743489583        |39918.13671875            |39577.22712053572         |34942.70651041667          |2.6507507712E10          |2.8354679661714287E10    |3.56179030016E10          |816.5751501081456      |1033.4924919127766     |4468.537750995164       |542.6243045418285        |813.3654458904593        |4454.175325721            |9.705206207491638E9     |8.189176455008097E9     |1.3283488991163948E10    |39740.3203125       |41374.37890625      |0.7184040928096102  |0.783410771921862                      |0.7965837131627637                     |0.7775862024056032                      |0.10012304505072334                   |0.07865323220397409                   |0.07102764167552139                    |[41371.51953125,42893.578125,40063.828125,40527.359375,3.5372785664E10,7.70762276864E11,40545.365885416664,39879.400111607145,35345.73743489583,39918.13671875,39577.22712053572,34942.70651041667,2.6507507712E10,2.8354679661714287E10,3.56179030016E10,816.5751501081456,1033.4924919127766,4468.537750995164,542.6243045418285,813.3654458904593,4454.175325721,9.705206207491638E9,8.189176455008097E9,1.3283488991163948E10,39740.3203125,0.7184040928096102,0.783410771921862,0.7965837131627637,0.7775862024056032,0.10012304505072334,0.07865323220397409,0.07102764167552139]                       |\n",
            "|2022-02-15|42586.4609375 |44667.21875   |42491.03125   |44575.19921875|2.272165888E10 |8.45117652992E11 |43700.604166666664      |41460.181919642855      |40028.830338541666       |43025.0234375             |40676.408482142855        |39982.63268229167          |2.2920289621333332E10    |2.1918345069714287E10    |2.5533839121066666E10     |1016.7468799636813     |2274.1950383059684     |2243.5814063127377      |2175.5383030143744       |2730.8718723031566       |2201.341052508333         |3.23163866959577E9      |5.160383625933186E9     |7.254332791403118E9      |43961.859375        |42586.921875        |0.8337971369425455  |0.8268077063891622                     |0.7745691348420586                     |0.751717794784147                       |0.06728720014193298                   |0.06751736844642506                   |0.04966664859515184                    |[42586.4609375,44667.21875,42491.03125,44575.19921875,2.272165888E10,8.45117652992E11,43700.604166666664,41460.181919642855,40028.830338541666,43025.0234375,40676.408482142855,39982.63268229167,2.2920289621333332E10,2.1918345069714287E10,2.5533839121066666E10,1016.7468799636813,2274.1950383059684,2243.5814063127377,2175.5383030143744,2730.8718723031566,2201.341052508333,3.23163866959577E9,5.160383625933186E9,7.254332791403118E9,43961.859375,0.8337971369425455,0.8268077063891622,0.7745691348420586,0.751717794784147,0.06728720014193298,0.06751736844642506,0.04966664859515184]          |\n",
            "|2022-04-15|39939.3984375 |40617.71875   |39866.828125  |40553.4609375 |2.175685632E10 |7.71033858048E11 |40303.166666666664      |40618.87555803572       |37420.380143229166       |40231.630208333336        |40703.65569196428         |37095.006575520834         |1.9225879893333332E10    |2.5696906386285713E10    |3.4322793540266666E10     |322.1345731955791      |671.0818350040155      |3911.005089819835       |450.36805071917246       |606.7136140314652        |4098.653182281915         |2.4647622317399592E9    |7.073286637872923E9     |1.4218505995568521E10    |40424.48046875      |39935.51953125      |0.7517809073130289  |0.7344342793712241                     |0.7963134783338601                     |0.7774356125454552                      |0.01672730402753585                   |0.07882829231152173                   |0.07107910154812827                    |[39939.3984375,40617.71875,39866.828125,40553.4609375,2.175685632E10,7.71033858048E11,40303.166666666664,40618.87555803572,37420.380143229166,40231.630208333336,40703.65569196428,37095.006575520834,1.9225879893333332E10,2.5696906386285713E10,3.4322793540266666E10,322.1345731955791,671.0818350040155,3911.005089819835,450.36805071917246,606.7136140314652,4098.653182281915,2.4647622317399592E9,7.073286637872923E9,1.4218505995568521E10,40424.48046875,0.7517809073130289,0.7344342793712241,0.7963134783338601,0.7774356125454552,0.01672730402753585,0.07882829231152173,0.07107910154812827]   |\n",
            "|2022-01-13|43946.73828125|44278.421875  |42447.0390625 |42591.5703125 |4.7691137024E10|8.0618979328E11  |43215.8359375           |42937.396763392855      |40158.92877604167        |42956.22265625            |42621.864955357145        |40106.52252604167          |2.9879962965333332E10    |2.496309218742857E10     |2.56878898176E10          |681.1187886224479      |582.8005048658499      |3006.8810465892875      |318.17886636349266       |539.8326627633364        |2952.714055426914         |1.5643023778917562E10   |1.0267134435053347E10   |8.432685374026365E9      |43099.69921875      |43949.1015625       |0.700248917366596   |0.7243954602486156                     |0.7186669654650509                     |0.7392845905432334                      |0.02337971341963027                   |0.018931212509140143                  |0.029874239039340375                   |[43946.73828125,44278.421875,42447.0390625,42591.5703125,4.7691137024E10,8.0618979328E11,43215.8359375,42937.396763392855,40158.92877604167,42956.22265625,42621.864955357145,40106.52252604167,2.9879962965333332E10,2.496309218742857E10,2.56878898176E10,681.1187886224479,582.8005048658499,3006.8810465892875,318.17886636349266,539.8326627633364,2952.714055426914,1.5643023778917562E10,1.0267134435053347E10,8.432685374026365E9,43099.69921875,0.700248917366596,0.7243954602486156,0.7186669654650509,0.7392845905432334,0.02337971341963027,0.018931212509140143,0.029874239039340375]            |\n",
            "|2021-11-24|57565.8515625 |57803.0703125 |55964.21875   |56280.4296875 |3.663556608E10 |1.062661718016E12|57897.1875              |56766.14564732143       |51409.659895833334       |55708.290364583336        |56285.77287946428         |51031.32604166667          |3.7576776362666664E10    |3.435535798857143E10     |3.2723571575466667E10     |942.1914257731024      |1826.4506387985261     |4235.710522087462       |1917.5796834583653       |1542.4614507003744       |3978.4857119089384        |3.850627274108721E9     |4.538356340760848E9     |7.300325932839849E9      |57274.6796875       |57569.0703125       |0.7285109281539917  |0.7252280555370204                     |0.7231397932283418                     |0.73723961366923                        |0.023510237507545294                  |0.016565140093059812                  |0.028353892104737106                   |[57565.8515625,57803.0703125,55964.21875,56280.4296875,3.663556608E10,1.062661718016E12,57897.1875,56766.14564732143,51409.659895833334,55708.290364583336,56285.77287946428,51031.32604166667,3.7576776362666664E10,3.435535798857143E10,3.2723571575466667E10,942.1914257731024,1826.4506387985261,4235.710522087462,1917.5796834583653,1542.4614507003744,3978.4857119089384,3.850627274108721E9,4.538356340760848E9,7.300325932839849E9,57274.6796875,0.7285109281539917,0.7252280555370204,0.7231397932283418,0.73723961366923,0.023510237507545294,0.016565140093059812,0.028353892104737106]           |\n",
            "|2022-03-09|38742.8203125 |42465.671875  |38706.08984375|41982.9296875 |3.2284121088E10|7.9678767104E11  |40052.286458333336      |39335.22991071428       |42970.223828125          |40071.786458333336        |39424.94029017857         |43131.958203125            |2.9909025450666668E10    |2.4271490486857143E10    |2.8176771549866665E10     |1700.4246153766885     |1300.377856736289      |3019.3078688545165      |1685.986472229773        |1275.3499114020215       |2912.6954285484276        |3.1279880719065456E9    |6.542700104264393E9     |6.56417377730793E9       |39437.4609375       |38737.26953125      |0.8619114955266317  |0.8620120038588842                     |0.7986159419041167                     |0.7550522363067427                      |0.02826525510675916                   |0.06373630404314706                   |0.05357636037043231                    |[38742.8203125,42465.671875,38706.08984375,41982.9296875,3.2284121088E10,7.9678767104E11,40052.286458333336,39335.22991071428,42970.223828125,40071.786458333336,39424.94029017857,43131.958203125,2.9909025450666668E10,2.4271490486857143E10,2.8176771549866665E10,1700.4246153766885,1300.377856736289,3019.3078688545165,1685.986472229773,1275.3499114020215,2912.6954285484276,3.1279880719065456E9,6.542700104264393E9,6.56417377730793E9,39437.4609375,0.8619114955266317,0.8620120038588842,0.7986159419041167,0.7550522363067427,0.02826525510675916,0.06373630404314706,0.05357636037043231]       |\n",
            "|2022-04-19|40828.171875  |41672.9609375 |40618.62890625|41502.75      |2.5303205888E10|7.8922743808E11  |41233.809895833336      |40416.712611607145      |36122.351822916666       |41134.829427083336        |40365.59095982143         |35721.441796875            |2.9498507946666668E10    |2.657934160457143E10     |3.5237899946666664E10     |357.2756410281731      |866.1832081860464      |4393.112085606549       |529.9855493890576        |847.7682092429859        |4499.67942544986          |5.240546599650045E9     |7.576215419765629E9     |1.3458560022598232E10    |41374.37890625      |40826.2109375       |0.7374973256646851  |0.7358941085957748                     |0.7709391092129679                     |0.7723412774306956                      |0.016746064174203493                  |0.060719621625437495                  |0.06812434622866757                    |[40828.171875,41672.9609375,40618.62890625,41502.75,2.5303205888E10,7.8922743808E11,41233.809895833336,40416.712611607145,36122.351822916666,41134.829427083336,40365.59095982143,35721.441796875,2.9498507946666668E10,2.657934160457143E10,3.5237899946666664E10,357.2756410281731,866.1832081860464,4393.112085606549,529.9855493890576,847.7682092429859,4499.67942544986,5.240546599650045E9,7.576215419765629E9,1.3458560022598232E10,41374.37890625,0.7374973256646851,0.7358941085957748,0.7709391092129679,0.7723412774306956,0.016746064174203493,0.060719621625437495,0.06812434622866757]         |\n",
            "|2021-12-29|47623.87109375|48119.73828125|46201.48828125|46444.7109375 |3.0049226752E10|8.78478753792E11 |47094.6171875           |47011.27287946428       |42423.758984375          |46643.096354166664        |46759.57366071428         |42071.77096354167          |3.1236630528E10          |3.168720457142857E10     |3.1429254690133335E10     |570.3171404322321      |580.9074976367734      |3688.557008734599       |468.48046870655753       |647.5985810807051        |3675.730647972595         |5.245622382193573E9     |6.308587892833805E9     |1.2667058674204876E10    |47178.12890625      |47588.8515625       |0.8806792753083366  |0.7698130402763081                     |0.7485892562428261                     |0.7412514979591932                      |0.09704729190487228                   |0.05987034174002468                   |0.03844996828179016                    |[47623.87109375,48119.73828125,46201.48828125,46444.7109375,3.0049226752E10,8.78478753792E11,47094.6171875,47011.27287946428,42423.758984375,46643.096354166664,46759.57366071428,42071.77096354167,3.1236630528E10,3.168720457142857E10,3.1429254690133335E10,570.3171404322321,580.9074976367734,3688.557008734599,468.48046870655753,647.5985810807051,3675.730647972595,5.245622382193573E9,6.308587892833805E9,1.2667058674204876E10,47178.12890625,0.8806792753083366,0.7698130402763081,0.7485892562428261,0.7412514979591932,0.09704729190487228,0.05987034174002468,0.03844996828179016]             |\n",
            "|2022-03-14|37846.3203125 |39742.5       |37680.73046875|39666.76171875|2.4322158592E10|7.5301388288E11  |38948.713541666664      |40416.83984375          |43385.79114583333        |40049.826822916664        |40905.78236607143         |43463.87552083333          |2.9291025749333332E10    |2.6299577490285713E10    |2.8317384328533333E10     |968.7418170122403      |1538.0465016640185     |2671.2511717104553      |961.606637107391         |1050.3161864628175       |2538.791838068138         |8.944590373313742E9     |7.673947499748564E9     |6.481172646868517E9      |39338.7890625       |37849.66015625      |0.7271535396575928  |0.7797903269529343                     |0.7744896670396398                     |0.7697236342226577                      |0.06368515304507087                   |0.05060991055838931                   |0.06511224805574438                    |[37846.3203125,39742.5,37680.73046875,39666.76171875,2.4322158592E10,7.5301388288E11,38948.713541666664,40416.83984375,43385.79114583333,40049.826822916664,40905.78236607143,43463.87552083333,2.9291025749333332E10,2.6299577490285713E10,2.8317384328533333E10,968.7418170122403,1538.0465016640185,2671.2511717104553,961.606637107391,1050.3161864628175,2538.791838068138,8.944590373313742E9,7.673947499748564E9,6.481172646868517E9,39338.7890625,0.7271535396575928,0.7797903269529343,0.7744896670396398,0.7697236342226577,0.06368515304507087,0.05060991055838931,0.06511224805574438]            |\n",
            "|2022-03-07|38429.30078125|39430.23046875|37260.19921875|38062.0390625 |2.8546144256E10|7.2230567936E11  |38410.673177083336      |39189.31975446428       |42561.468489583334       |39594.079427083336        |39109.76283482143         |42801.58216145833          |2.8868949333333332E10    |2.513814293942857E10     |2.7804350190933334E10     |341.8417946450484      |1298.6492308829152     |3202.406186740385       |2096.1722785834263       |1374.0595433645678       |3149.3243234955           |3.2657566427175226E9    |6.733070666331138E9     |6.217832899919073E9      |38737.26953125      |38419.98046875      |0.8402330342092013  |0.8453138888927928                     |0.8107448886338349                     |0.7579038607028187                      |0.014729752302248555                  |0.0621858292081481                    |0.055787171133949195                   |[38429.30078125,39430.23046875,37260.19921875,38062.0390625,2.8546144256E10,7.2230567936E11,38410.673177083336,39189.31975446428,42561.468489583334,39594.079427083336,39109.76283482143,42801.58216145833,2.8868949333333332E10,2.513814293942857E10,2.7804350190933334E10,341.8417946450484,1298.6492308829152,3202.406186740385,2096.1722785834263,1374.0595433645678,3149.3243234955,3.2657566427175226E9,6.733070666331138E9,6.217832899919073E9,38737.26953125,0.8402330342092013,0.8453138888927928,0.8107448886338349,0.7579038607028187,0.014729752302248555,0.0621858292081481,0.055787171133949195]|\n",
            "|2021-12-30|46490.609375  |47879.96875   |46060.30859375|47178.12890625|2.6686490624E10|8.9238634496E11  |46657.239583333336      |46764.9140625           |42073.911328125          |47057.12890625            |46348.7578125             |41783.091536458334         |2.9414443690666668E10    |3.265889865142857E10     |3.1168908151466667E10     |452.4463835816298      |640.435727617727       |3676.043376256652       |698.089357487696         |1379.3439053448599       |3660.499145472728         |6.6308870734392805E9    |6.5340525260593E9       |1.2776194048529003E10    |46306.44921875      |46444.7109375       |0.7406975269317627  |0.7832959101313636                     |0.7508243489487064                     |0.7411790941263053                      |0.08455630170091633                   |0.0591326878879295                    |0.03844886124040132                    |[46490.609375,47879.96875,46060.30859375,47178.12890625,2.6686490624E10,8.9238634496E11,46657.239583333336,46764.9140625,42073.911328125,47057.12890625,46348.7578125,41783.091536458334,2.9414443690666668E10,3.265889865142857E10,3.1168908151466667E10,452.4463835816298,640.435727617727,3676.043376256652,698.089357487696,1379.3439053448599,3660.499145472728,6.6308870734392805E9,6.5340525260593E9,1.2776194048529003E10,46306.44921875,0.7406975269317627,0.7832959101313636,0.7508243489487064,0.7411790941263053,0.08455630170091633,0.0591326878879295,0.03844886124040132]                      |\n",
            "|2021-12-11|47264.62890625|49458.2109375 |46942.3515625 |49362.51171875|2.5775869952E10|9.32873043968E11 |48911.40625             |48339.71149553572       |47372.44583333333        |48732.77734375            |47939.32142857143         |47130.07408854167          |2.6627274069333332E10    |3.017616384E10           |3.05906542592E10          |1475.8941937853924     |1209.6962618427617     |2495.109382426034       |1766.7110606785122       |1522.10322261822         |2675.389547691164         |5.166635429739738E9     |5.283590516220919E9     |1.1506661517012745E10    |50098.33984375      |47243.30859375      |0.6935838460922241  |0.7716535494441078                     |0.745236851033166                      |0.7401579953036151                      |0.09731331566506707                   |0.06286143210943333                   |0.03931194531301892                    |[47264.62890625,49458.2109375,46942.3515625,49362.51171875,2.5775869952E10,9.32873043968E11,48911.40625,48339.71149553572,47372.44583333333,48732.77734375,47939.32142857143,47130.07408854167,2.6627274069333332E10,3.017616384E10,3.05906542592E10,1475.8941937853924,1209.6962618427617,2495.109382426034,1766.7110606785122,1522.10322261822,2675.389547691164,5.166635429739738E9,5.283590516220919E9,1.1506661517012745E10,50098.33984375,0.6935838460922241,0.7716535494441078,0.745236851033166,0.7401579953036151,0.09731331566506707,0.06286143210943333,0.03931194531301892]                       |\n",
            "|2022-03-08|38059.8984375 |39304.44140625|37957.390625  |38737.26953125|2.5776582656E10|7.35156371456E11 |39592.263020833336      |39106.036830357145      |42798.637109375          |40052.553385416664        |39339.00892857143         |42973.07213541667          |2.9712922624E10          |2.4534716416E10          |2.8165925205333332E10     |2090.7773800229847     |1372.1276235936502     |3148.8482601575097      |1708.019760447824        |1302.1062440894348       |3019.749278823665         |3.46189581088845E9      |6.563890310937422E9     |6.567988020162742E9      |41982.9296875       |38062.0390625       |0.7778195838133494  |0.8266547045163941                     |0.8112221904086672                     |0.7557221050502542                      |0.04365937106548435                   |0.06187311220651958                   |0.05356920025275626                    |[38059.8984375,39304.44140625,37957.390625,38737.26953125,2.5776582656E10,7.35156371456E11,39592.263020833336,39106.036830357145,42798.637109375,40052.553385416664,39339.00892857143,42973.07213541667,2.9712922624E10,2.4534716416E10,2.8165925205333332E10,2090.7773800229847,1372.1276235936502,3148.8482601575097,1708.019760447824,1302.1062440894348,3019.749278823665,3.46189581088845E9,6.563890310937422E9,6.567988020162742E9,41982.9296875,0.7778195838133494,0.8266547045163941,0.8112221904086672,0.7557221050502542,0.04365937106548435,0.06187311220651958,0.05356920025275626]               |\n",
            "|2022-02-14|42157.3984375 |42775.78125   |41681.9609375 |42586.921875  |2.0827783168E10|8.07375863808E11 |43107.380208333336      |41993.63727678572       |40122.891276041664       |43707.993489583336        |41463.78571428572         |40030.732421875            |2.1113996629333332E10    |2.0710827885714287E10    |2.49075346432E10          |1291.7763208112522     |1839.505107063542      |2272.480318681962       |1018.1589339347546       |2276.260487434969        |2242.96197617784          |1.4853826039944136E9    |4.0116516202099614E9    |6.792950529848356E9      |44575.19921875      |42197.51953125      |0.6420538028081259  |0.7533688069435588                     |0.800348719360685                      |0.7517573439141841                      |0.10132685876327426                   |0.08376648606362663                   |0.05742797575445427                    |[42157.3984375,42775.78125,41681.9609375,42586.921875,2.0827783168E10,8.07375863808E11,43107.380208333336,41993.63727678572,40122.891276041664,43707.993489583336,41463.78571428572,40030.732421875,2.1113996629333332E10,2.0710827885714287E10,2.49075346432E10,1291.7763208112522,1839.505107063542,2272.480318681962,1018.1589339347546,2276.260487434969,2242.96197617784,1.4853826039944136E9,4.0116516202099614E9,6.792950529848356E9,44575.19921875,0.6420538028081259,0.7533688069435588,0.800348719360685,0.7517573439141841,0.10132685876327426,0.08376648606362663,0.05742797575445427]            |\n",
            "+----------+--------------+--------------+--------------+--------------+---------------+-----------------+------------------------+------------------------+-------------------------+--------------------------+--------------------------+---------------------------+-------------------------+-------------------------+--------------------------+-----------------------+-----------------------+------------------------+-------------------------+-------------------------+--------------------------+------------------------+------------------------+-------------------------+--------------------+--------------------+--------------------+---------------------------------------+---------------------------------------+----------------------------------------+--------------------------------------+--------------------------------------+---------------------------------------+--------------------------------------------------------------------------------------------------------------------------------------------------------------------------------------------------------------------------------------------------------------------------------------------------------------------------------------------------------------------------------------------------------------------------------------------------------------------------------------------------------------------------------------------------------------------------------------------------------------+\n",
            "only showing top 20 rows\n",
            "\n"
          ]
        }
      ],
      "source": [
        "featurized_spark_df.show(truncate=False)"
      ]
    },
    {
      "cell_type": "markdown",
      "metadata": {
        "id": "s-JINQRX97hp"
      },
      "source": [
        "# XGBOOST\n",
        "\n"
      ]
    },
    {
      "cell_type": "code",
      "execution_count": null,
      "metadata": {
        "id": "D1D8UFFeUfUH"
      },
      "outputs": [],
      "source": [
        "!pip install --user virtualenv\n",
        "!virtualenv xgboost_env\n",
        "!python -m venv xgboost_env\n",
        "!source /content/xgboost_env/bin/activate; pip install pyarrow pandas venv-pack xgboost\n",
        "!source /content/xgboost_env/bin/activate; pip install cudf-cu11 --extra-index-url=https://pypi.ngc.nvidia.com\n",
        "!source /content/xgboost_env/bin/activate; venv-pack -o xgboost_env.tar.gz\n",
        "\n",
        "from pyspark.ml.evaluation import RegressionEvaluator"
      ]
    },
    {
      "cell_type": "code",
      "execution_count": null,
      "metadata": {
        "id": "SjYmZRU_nHx2"
      },
      "outputs": [],
      "source": [
        "# Split dataset into train and test\n",
        "test_spark_df, train_spark_df = featurized_spark_df.limit(int(featurized_spark_df.count()*.2)), featurized_spark_df.subtract(featurized_spark_df.limit(int(featurized_spark_df.count()*.2)))"
      ]
    },
    {
      "cell_type": "code",
      "execution_count": null,
      "metadata": {
        "id": "yl6A1OsN1tRX"
      },
      "outputs": [],
      "source": [
        "trainRows = train_spark_df.count()\n",
        "print(f\"Training Samples count : {trainRows}\")\n",
        "testRows = test_spark_df.count()\n",
        "print(f\"Testing Samples count : {testRows}\")"
      ]
    },
    {
      "cell_type": "code",
      "execution_count": null,
      "metadata": {
        "id": "jSQu12nOkU95"
      },
      "outputs": [],
      "source": [
        "# This is an XGBoost extension for GPU acceleration. On CPU, the convention established by the spark-ml library is used, where all features are stored in a single dataframe column\n",
        "\n",
        "from xgboost.spark import SparkXGBRegressor\n",
        "spark_reg_estimator = SparkXGBRegressor(\n",
        "  features_col='features',\n",
        "  label_col='Next Day Close Price',\n",
        "  num_workers=1,\n",
        "  # use_gpu=True\n",
        ")"
      ]
    },
    {
      "cell_type": "code",
      "execution_count": null,
      "metadata": {
        "id": "lv3l_cK8eUhN"
      },
      "outputs": [],
      "source": [
        "from pyspark.ml.tuning import ParamGridBuilder, CrossValidator, CrossValidatorModel, TrainValidationSplit, TrainValidationSplitModel\n",
        "from multiprocessing.pool import ThreadPool\n",
        "\n",
        "def _parallelFitTasks(est, train, eva, validation, epm):\n",
        "    modelIter = est.fitMultiple(train, epm)\n",
        "\n",
        "    def singleTask():\n",
        "        index, model = next(modelIter)\n",
        "        metric = eva.evaluate(model.transform(validation, epm[index]))\n",
        "        return index, metric\n",
        "\n",
        "    return [singleTask] * len(epm)\n",
        "\n",
        "def minimum(a,b):\n",
        "  return  b if a > b else a\n",
        "\n",
        "\n",
        "class CustomTrainValidationSplit(TrainValidationSplit):\n",
        "    def _fit(self, dataset):\n",
        "      est = self.getOrDefault(self.estimator)\n",
        "      epm = self.getOrDefault(self.estimatorParamMaps)\n",
        "      numModels = len(epm)\n",
        "      eva = self.getOrDefault(self.evaluator)\n",
        "      tRatio = self.getOrDefault(self.trainRatio)\n",
        "      seed = self.getOrDefault(self.seed)\n",
        "      randCol = self.uid + \"_rand\"\n",
        "      validation, train = df.limit(int(df.count()*(1-tRatio))), df.subtract(df.limit(int(df.count()*(1-tRatio))))    \n",
        "\n",
        "      tasks = _parallelFitTasks(est, train, eva, validation, epm)\n",
        "      pool = ThreadPool(processes= minimum(self.getParallelism(), numModels))\n",
        "      metrics = [None] * numModels\n",
        "      for j, metric in pool.imap_unordered(lambda f: f(), tasks):\n",
        "          metrics[j] = metric\n",
        "      train.unpersist()\n",
        "      validation.unpersist()\n",
        "\n",
        "      if eva.isLargerBetter():\n",
        "          bestIndex = np.argmax(metrics)\n",
        "      else:\n",
        "          bestIndex = np.argmin(metrics)\n",
        "      bestModel = est.fit(dataset, epm[bestIndex])\n",
        "      return self._copyValues(TrainValidationSplitModel(bestModel, metrics))\n"
      ]
    },
    {
      "cell_type": "code",
      "execution_count": null,
      "metadata": {
        "id": "7ywripJiaLRj"
      },
      "outputs": [],
      "source": [
        "from pyspark.ml.evaluation import RegressionEvaluator\n",
        "import numpy as np\n",
        "\n",
        "evaluator = RegressionEvaluator(metricName=\"rmse\",\n",
        "                                labelCol=spark_reg_estimator.getLabelCol(),\n",
        "                                predictionCol=spark_reg_estimator.getPredictionCol())\n",
        "\n",
        "# Parameter grid search for xgboost\n",
        "\n",
        "\n",
        "paramSearchGrid = (ParamGridBuilder()\n",
        "             .addGrid(spark_reg_estimator.max_depth,[8])\n",
        "             .addGrid(spark_reg_estimator.n_estimators, [100])\n",
        "             .addGrid(spark_reg_estimator.gamma, [0.01])\n",
        "             .addGrid(spark_reg_estimator.learning_rate, [0.01])\n",
        "             .addGrid(spark_reg_estimator.base_score, [0.3, 0.5])\n",
        "             .build())\n",
        "\n",
        "# Grid search settings from the paper\n",
        "# paramSearchGrid = (ParamGridBuilder()\n",
        "#              .addGrid(spark_reg_estimator.max_depth,[2, 3, 4, 5, 6, 7, 8, 10])\n",
        "#              .addGrid(spark_reg_estimator.n_estimators, [50, 100, 200])\n",
        "#              .addGrid(spark_reg_estimator.gamma, [0, 0.001, 0.01, 0.1])\n",
        "#              .addGrid(spark_reg_estimator.learning_rate, [0.001, 0.01, 0.1, 0.15, 0.2])\n",
        "#              .addGrid(spark_reg_estimator.base_score, [0.3, 0.5, 0.7])\n",
        "#              .build())\n",
        "\n",
        "\n",
        "print(\"Number of combinations:\", len(paramSearchGrid))\n",
        "\n",
        "\n",
        "cv = CustomTrainValidationSplit(estimator=spark_reg_estimator, estimatorParamMaps=paramSearchGrid, evaluator=evaluator, trainRatio=0.8)\n",
        "xgb_regressor_model = cv.fit(train_spark_df)"
      ]
    },
    {
      "cell_type": "code",
      "execution_count": null,
      "metadata": {
        "id": "Dbh3AWD6gMrB"
      },
      "outputs": [],
      "source": [
        "# Print the best params\n",
        "xgb_regressor_model.bestModel.extractParamMap()"
      ]
    },
    {
      "cell_type": "code",
      "execution_count": null,
      "metadata": {
        "id": "YhL3rszhmxWU"
      },
      "outputs": [],
      "source": [
        "# Run model on test set\n",
        "transformed_test_spark_dataframe = xgb_regressor_model.bestModel.transform(test_spark_df)"
      ]
    },
    {
      "cell_type": "markdown",
      "metadata": {
        "id": "Pr5Z1qX7-Dh9"
      },
      "source": [
        "# Results & Plotting"
      ]
    },
    {
      "cell_type": "code",
      "execution_count": null,
      "metadata": {
        "id": "nGDs_5eeuQM2"
      },
      "outputs": [],
      "source": [
        "from pyspark.sql.functions import col\n",
        "\n",
        "transformed_test_spark_dataframe.select(col(\"Date\"), col(\"Next Day Close Price\"), col(\"prediction\")).show()"
      ]
    },
    {
      "cell_type": "code",
      "execution_count": null,
      "metadata": {
        "id": "fFIm0p4v_gVT"
      },
      "outputs": [],
      "source": [
        "from pyspark.sql.functions import *\n",
        "\n",
        "ordered_transformed_test_spark_dataframe = transformed_test_spark_dataframe.orderBy(unix_timestamp(transformed_test_spark_dataframe[\"Date\"], \"MMM dd, yyyy\").cast(\"timestamp\"))\n",
        "#unix_timestamp(transformed_test_spark_dataframe[\"Date\"], \"MMM dd, yyyy\").cast(\"timestamp\")"
      ]
    },
    {
      "cell_type": "code",
      "execution_count": null,
      "metadata": {
        "id": "lya-KWir-SJr"
      },
      "outputs": [],
      "source": [
        "ordered_transformed_test_spark_dataframe_pd = ordered_transformed_test_spark_dataframe.toPandas()"
      ]
    },
    {
      "cell_type": "code",
      "execution_count": null,
      "metadata": {
        "id": "4n2DZuyW3ENu"
      },
      "outputs": [],
      "source": [
        "import seaborn as sns\n",
        "import matplotlib.pyplot as plt\n",
        "import pandas as pd\n",
        "\n",
        "renamed_ordered_transformed_test_spark_dataframe_pd = ordered_transformed_test_spark_dataframe_pd.rename(columns={\"Next Day Close Price\": \"Actual\", \"prediction\": \"Prediction\"})\n",
        "plot_df = pd.melt(renamed_ordered_transformed_test_spark_dataframe_pd[[\"Date\", \"Prediction\", \"Actual\"]], ['Date'], var_name=\"Next Day Close Price\", value_name=\"BTC Price ($)\")\n"
      ]
    },
    {
      "cell_type": "code",
      "execution_count": null,
      "metadata": {
        "id": "iUoPXFlYLVGj"
      },
      "outputs": [],
      "source": [
        "fig = plt.figure(figsize=(25,12))\n",
        "ax = sns.lineplot(x='Date', y='BTC Price ($)', hue='Next Day Close Price', data=plot_df)\n",
        "ax.tick_params(axis='x', labelrotation = 90)\n",
        "plt.yticks(fontsize=15)\n",
        "plt.xlabel('Date', fontsize=18)\n",
        "plt.ylabel('BTC Next Day Close Price ($)', fontsize=18)\n",
        "plt.legend(fontsize='xx-large')\n",
        "plt.title(\"BTC Next Day Close Price ($)\\nPredicted vs Actual\\n\", fontsize=22)"
      ]
    },
    {
      "cell_type": "code",
      "execution_count": null,
      "metadata": {
        "id": "Fa1wajBXDgkR"
      },
      "outputs": [],
      "source": [
        "model_feature_importance = xgb_regressor_model.bestModel.get_booster().get_score(importance_type='weight')\n",
        "print(xgb_regressor_model.bestModel.get_booster())\n",
        "print(model_feature_importance)\n",
        "model_feature_importance_df = pd.DataFrame(model_feature_importance.items(), columns=['Feature_code', 'F-score'])\n",
        "model_feature_importance_df['Feature_code'] = input_features\n",
        "print(input_features)\n"
      ]
    },
    {
      "cell_type": "code",
      "execution_count": null,
      "metadata": {
        "id": "d3IkzUPZFBrW"
      },
      "outputs": [],
      "source": [
        "f, ax = plt.subplots(figsize=(10, 10))\n",
        "sns.barplot(y=\"Feature_code\", x=\"F-score\", data=model_feature_importance_df, orient='h')\n",
        "# sns.despine(left=True, bottom=True)\n",
        "plt.title(\"XGBoost Feature Importance\", fontsize=16)\n",
        "plt.ylabel('Features', fontsize=16)\n",
        "plt.xlabel('F-score', fontsize=16)"
      ]
    },
    {
      "cell_type": "code",
      "execution_count": null,
      "metadata": {
        "id": "xw74Huqhw5ES"
      },
      "outputs": [],
      "source": [
        "from pyspark.ml.evaluation import RegressionEvaluator\n",
        "\n",
        "evaluator = RegressionEvaluator(labelCol=\"Next Day Close Price\", predictionCol=\"prediction\")\n",
        "\n",
        "rsquared = evaluator.evaluate(transformed_test_spark_dataframe, {evaluator.metricName: \"r2\"})\n",
        "mae = evaluator.evaluate(transformed_test_spark_dataframe, {evaluator.metricName: \"mae\"})\n",
        "rmse = evaluator.evaluate(transformed_test_spark_dataframe, {evaluator.metricName: \"rmse\"})"
      ]
    },
    {
      "cell_type": "code",
      "execution_count": null,
      "metadata": {
        "id": "Cc9IYd2n0IuH"
      },
      "outputs": [],
      "source": [
        "print(\"Evaluation scores\")\n",
        "print(\"mae: \", mae)\n",
        "print(\"rmse: \", rmse)\n",
        "print(\"rsquared: \", rsquared)"
      ]
    }
  ],
  "metadata": {
    "accelerator": "GPU",
    "colab": {
      "provenance": []
    },
    "gpuClass": "standard",
    "kernelspec": {
      "display_name": "Python 3",
      "name": "python3"
    },
    "language_info": {
      "name": "python"
    }
  },
  "nbformat": 4,
  "nbformat_minor": 0
}