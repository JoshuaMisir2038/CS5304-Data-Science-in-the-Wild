{
  "nbformat": 4,
  "nbformat_minor": 0,
  "metadata": {
    "colab": {
      "provenance": []
    },
    "kernelspec": {
      "name": "python3",
      "display_name": "Python 3"
    },
    "language_info": {
      "name": "python"
    }
  },
  "cells": [
    {
      "cell_type": "markdown",
      "source": [
        "# Part A: User – User Recommender System"
      ],
      "metadata": {
        "id": "18YWJ95aaeW3"
      }
    },
    {
      "cell_type": "code",
      "execution_count": 1,
      "metadata": {
        "id": "ZVoP05TjPji0"
      },
      "outputs": [],
      "source": [
        "import pandas as pd\n",
        "import numpy as np\n",
        "from sklearn.metrics.pairwise import cosine_similarity\n",
        "\n",
        "user_business = pd.read_csv(\"user-business.csv\", header=None)\n",
        "business = pd.read_csv(\"business.csv\", header=None)\n"
      ]
    },
    {
      "cell_type": "code",
      "source": [
        "# hidden businesses that Alex has visited\n",
        "alex_data = user_business.iloc[3]\n",
        "\n",
        "# First 100 business reviews only\n",
        "R_first_100 = user_business.iloc[:, :100]\n",
        "\n",
        "# Alex's ratings from the 101st restuarant to 10,000\n",
        "alex_ratings_excluding_100 = alex_data.iloc[100:]\n",
        "\n",
        "# First 100 ratings from other users without Alex's row\n",
        "others_ratings_excluding_100 = user_business.drop(3, axis=0).iloc[:, 100:]"
      ],
      "metadata": {
        "id": "cRoE9q_stLSc"
      },
      "execution_count": 2,
      "outputs": []
    },
    {
      "cell_type": "code",
      "source": [
        "# Calculate the cosine similarity between Alex & other users exlcuding the first 100 business\n",
        "\n",
        "# all rows after the 100th column\n",
        "masked_data = user_business.iloc[:, 100:]\n",
        "\n",
        "\n",
        "cos_similarities = cosine_similarity(masked_data)"
      ],
      "metadata": {
        "id": "63Tw6PyGYDuu"
      },
      "execution_count": 3,
      "outputs": []
    },
    {
      "cell_type": "code",
      "source": [
        "alex_cs = cos_similarities[3]"
      ],
      "metadata": {
        "id": "V6Z-JeEp1akG"
      },
      "execution_count": 25,
      "outputs": []
    },
    {
      "cell_type": "code",
      "source": [
        "cos"
      ],
      "metadata": {
        "id": "R2B7pgBD25xn"
      },
      "execution_count": null,
      "outputs": []
    },
    {
      "cell_type": "code",
      "source": [
        "# Compute rAlex,b for all businesses b\n",
        "rAlex = np.dot(np.delete(alex_cs, 3, 0), np.delete(user_business.to_numpy(), 3, 0)) "
      ],
      "metadata": {
        "id": "QeuBiwgvQwH0"
      },
      "execution_count": 27,
      "outputs": []
    },
    {
      "cell_type": "code",
      "source": [
        "print(rAlex[:100])\n",
        "top5_indices = np.argsort(rAlex[:100])[-5:]\n",
        "print(business.iloc[top5_indices].values)"
      ],
      "metadata": {
        "colab": {
          "base_uri": "https://localhost:8080/"
        },
        "id": "N3IWj4KS6Ene",
        "outputId": "3a7f3a30-bec2-4588-add9-2ef570a0c5b1"
      },
      "execution_count": 35,
      "outputs": [
        {
          "output_type": "stream",
          "name": "stdout",
          "text": [
            "[5.55475823e-01 2.71788692e+00 2.75364038e-01 1.26262441e+01\n",
            " 8.10837615e-01 8.42329717e-02 4.47614940e-01 4.30395269e+01\n",
            " 1.65985436e+00 0.00000000e+00 1.90067114e-01 2.05989961e-01\n",
            " 3.34967584e-01 6.94416684e-01 5.27103363e-01 1.18765337e-01\n",
            " 3.32632250e+01 0.00000000e+00 3.94506648e-01 2.72266385e-02\n",
            " 0.00000000e+00 1.29292993e-01 1.43980436e-01 0.00000000e+00\n",
            " 1.22627662e-01 1.26502116e-01 4.84501583e-02 8.39181358e-02\n",
            " 6.42265821e-01 7.70822706e-01 2.20887758e-01 2.16675695e-02\n",
            " 3.17180740e-02 0.00000000e+00 0.00000000e+00 3.44476624e-01\n",
            " 5.77583523e+00 1.41957715e+00 4.02080451e-01 3.27829401e+01\n",
            " 1.63886141e+00 7.29230655e-01 5.06083534e-01 4.51524236e-01\n",
            " 5.74080438e+00 1.81620968e-01 2.20796731e+00 5.66511379e-01\n",
            " 0.00000000e+00 4.07285859e-01 2.69963752e-01 3.06425707e-02\n",
            " 8.94373253e-01 4.12172931e-01 6.37039615e-01 2.75420689e-01\n",
            " 2.17514939e-01 8.28039388e+00 9.21726968e-02 2.72989115e-01\n",
            " 4.63400314e-01 3.35981878e+01 1.21646443e+00 0.00000000e+00\n",
            " 3.07905879e-01 8.39572349e-01 6.34361480e-02 7.82818233e+00\n",
            " 2.28306727e+00 7.61252405e-01 1.13320881e+01 6.24238825e+00\n",
            " 1.70733334e-01 3.80775772e-01 1.50891896e-01 1.51125009e-01\n",
            " 2.93301756e-01 3.62976483e-01 7.29126454e-01 2.66444726e-01\n",
            " 9.69003166e-02 5.84407196e-01 4.21830657e-01 1.95105703e-02\n",
            " 2.84689733e-01 4.07383997e-01 1.85438909e-01 1.24397036e-01\n",
            " 4.98258534e+00 1.05641238e+00 6.26767358e-01 3.47061033e+00\n",
            " 1.61130687e-01 0.00000000e+00 2.06689208e-01 0.00000000e+00\n",
            " 4.85830270e-01 2.22791001e-01 7.80183533e+00 5.81971194e-01]\n",
            "[['Piece of Cake']\n",
            " ['Farm Burger']\n",
            " ['Loca Luna']\n",
            " ['Seven Lamps']\n",
            " [\"Papi's Cuban & Caribbean Grill\"]]\n"
          ]
        }
      ]
    },
    {
      "cell_type": "markdown",
      "source": [
        "The top 5 restaurants that have the highest similarity scores to Alex are:\n",
        "\n",
        "1. Piece of Cake\n",
        "2. Farm Burger\n",
        "3. Loca Luna\n",
        "4. Seven Lamps\n",
        "5. Papi's Cuban & Caribbean Grill"
      ],
      "metadata": {
        "id": "zArAsJr1Qo-V"
      }
    },
    {
      "cell_type": "markdown",
      "source": [
        "# Part B: Item - Item Recommender System"
      ],
      "metadata": {
        "id": "SvqAjtt0JCqd"
      }
    },
    {
      "cell_type": "code",
      "source": [
        "import pandas as pd\n",
        "import numpy as np\n",
        "from sklearn.metrics.pairwise import cosine_similarity\n",
        "\n",
        "user_business = pd.read_csv(\"user-business.csv\", header=None)\n",
        "business = pd.read_csv(\"business.csv\", header=None)\n"
      ],
      "metadata": {
        "id": "xF24lXakJSNd"
      },
      "execution_count": 45,
      "outputs": []
    },
    {
      "cell_type": "code",
      "source": [
        "# Remove Alex's row from the business ratings \n",
        "missing_alex = user_business.drop(3, axis = 0)\n",
        "\n",
        "\n",
        "item_cosine_similarity = cosine_similarity(missing_alex.T)"
      ],
      "metadata": {
        "id": "J0ESgzVkJE1w"
      },
      "execution_count": 46,
      "outputs": []
    },
    {
      "cell_type": "code",
      "source": [
        "alex_ratings = user_business.iloc[3]\n",
        "rAlex = np.dot(item_cosine_similarity, alex_ratings)"
      ],
      "metadata": {
        "id": "tAmxbbxvJtu1"
      },
      "execution_count": 47,
      "outputs": []
    },
    {
      "cell_type": "code",
      "source": [
        "print(rAlex[:100])\n",
        "top5_indices = np.argsort(rAlex[:100])[-5:]\n",
        "print(business.iloc[top5_indices].values)"
      ],
      "metadata": {
        "colab": {
          "base_uri": "https://localhost:8080/"
        },
        "id": "mbTqiOM5K_mZ",
        "outputId": "ae57bc7c-83c2-47cc-cc6a-d973fb2b7d13"
      },
      "execution_count": 48,
      "outputs": [
        {
          "output_type": "stream",
          "name": "stdout",
          "text": [
            "[7.27765431e-02 4.46080257e-01 9.20297611e-02 3.73017786e+00\n",
            " 1.07328700e-01 2.52136037e-02 2.13624343e-01 6.81093661e+00\n",
            " 1.57519835e-01 0.00000000e+00 6.72209047e-02 3.24961824e-02\n",
            " 2.16661315e-01 1.24426175e-01 5.88849632e-01 2.99669452e-02\n",
            " 5.85268103e+00 0.00000000e+00 7.28603947e-02 3.96074550e-03\n",
            " 0.00000000e+00 5.48597525e-02 1.83404335e-02 0.00000000e+00\n",
            " 5.78011568e-02 2.47991835e-02 8.97303170e-03 2.19899749e-02\n",
            " 1.32742652e-01 1.73937414e-01 4.86562881e-02 5.20543940e-03\n",
            " 1.82940433e-02 0.00000000e+00 0.00000000e+00 5.15667989e-02\n",
            " 2.51699057e+00 2.17289537e-01 4.51102241e-02 6.55881491e+00\n",
            " 2.31971571e-01 1.14928194e-01 4.11640968e-02 7.63770990e-02\n",
            " 2.17330003e+00 2.25916169e-02 3.16885118e-01 1.20220925e-01\n",
            " 0.00000000e+00 4.56668369e-02 7.49534336e-02 1.90381239e-02\n",
            " 2.67939919e-01 6.58877380e-02 1.59655874e-01 1.10761321e-01\n",
            " 6.75902484e-02 2.85095833e+00 9.99247857e-02 9.24055469e-02\n",
            " 8.95758519e-02 6.44036675e+00 2.16568719e-01 0.00000000e+00\n",
            " 4.99958674e-02 4.08567600e-01 1.92305004e-02 3.39953097e+00\n",
            " 6.49598715e-01 1.21366487e-01 3.46461811e+00 2.87023678e+00\n",
            " 5.35565141e-02 1.03079838e-01 3.65608613e-02 2.09362686e-02\n",
            " 1.13112390e-01 5.49666342e-02 1.40930171e-01 4.49024177e-02\n",
            " 1.23633576e-02 1.00115462e-01 5.64321437e-02 1.34693115e-02\n",
            " 3.52072756e-02 5.55441635e-02 4.18615259e-02 2.43589382e-02\n",
            " 2.15521565e+00 4.13508317e-01 6.59480844e-02 2.78181499e-01\n",
            " 4.52799606e-02 0.00000000e+00 7.99728047e-02 0.00000000e+00\n",
            " 1.01119070e-01 2.87986317e-02 2.40858380e+00 1.84283018e-01]\n",
            "[['Piece of Cake']\n",
            " ['Loca Luna']\n",
            " ['Seven Lamps']\n",
            " ['Farm Burger']\n",
            " [\"Papi's Cuban & Caribbean Grill\"]]\n"
          ]
        }
      ]
    },
    {
      "cell_type": "markdown",
      "source": [
        "By using an item-item recommender, the top 5 restaurants that have the highest similarity scores to Alex are:\n",
        "\n",
        "1. Piece of Cake\n",
        "2. Farm Burger\n",
        "3. Loca Luna\n",
        "4. Seven Lamps\n",
        "5. Papi's Cuban & Caribbean Grill"
      ],
      "metadata": {
        "id": "U8aGipccLFWJ"
      }
    },
    {
      "cell_type": "markdown",
      "source": [
        "# Part C: Latent Hidden Model Recommendation System"
      ],
      "metadata": {
        "id": "qvOHRuBWVfSi"
      }
    },
    {
      "cell_type": "code",
      "source": [
        "user_business = pd.read_csv(\"user-business.csv\", header=None)\n",
        "business = pd.read_csv(\"business.csv\", header=None)\n"
      ],
      "metadata": {
        "id": "YU5PO3qRYVQZ"
      },
      "execution_count": 55,
      "outputs": []
    },
    {
      "cell_type": "code",
      "source": [
        "import numpy as np\n",
        "import pandas as pd\n",
        "from scipy.sparse.linalg import svds\n"
      ],
      "metadata": {
        "id": "c7vHSBtLebFI"
      },
      "execution_count": 56,
      "outputs": []
    },
    {
      "cell_type": "code",
      "source": [
        "\n",
        "# Perform SVD with k = 10\n",
        "k = 10\n",
        "U, sigma, Vt = svds(user_business.to_numpy(dtype=np.float64), k = k)\n",
        "\n",
        "# Reconstruct the R* matrix using the top 10 factors \n",
        "sigma = np.diag(sigma)\n",
        "R_star = np.dot(np.dot(U, sigma), Vt)\n",
        "\n",
        "# Get Alex's estimated ratings from R_star\n",
        "alex_estimated_ratings = R_star[3]\n",
        "\n",
        "# Get the indices of the top 5 businesses in S for Alex\n",
        "top5_indices1 = np.argpartition(alex_estimated_ratings[:100], -5)[-5:]\n",
        "top5_indices1 = top5_indices1[np.argsort(-alex_estimated_ratings[top5_indices])]\n",
        "\n",
        "\n",
        "# Get the top 5 business in S for Alex\n",
        "top5_businesses = first100_businesses.iloc[top5_indices1]\n",
        "top5_estimated_ratings = alex_estimated_ratings[top5_indices1]\n",
        "\n",
        "print(\"Top 5 businesses for Alex:\")\n",
        "print(top5_businesses)\n",
        "print(\"Their estimated ratings:\")\n",
        "print(top5_estimated_ratings)"
      ],
      "metadata": {
        "colab": {
          "base_uri": "https://localhost:8080/"
        },
        "id": "vStprxeAVk5G",
        "outputId": "0978fd64-1ad0-4ce6-d84e-bcf33c344a87"
      },
      "execution_count": 64,
      "outputs": [
        {
          "output_type": "stream",
          "name": "stdout",
          "text": [
            "Top 5 businesses for Alex:\n",
            "    0   1   2   3   4   5   6   7   8   9   ...  90  91  92  93  94  95  96  \\\n",
            "61   0   0   0   0   0   0   0   0   0   0  ...   1   1   0   0   0   0   0   \n",
            "39   0   0   0   0   0   0   0   0   0   0  ...   0   0   0   0   0   0   0   \n",
            "7    0   0   0   0   0   0   0   0   1   0  ...   0   0   0   0   0   0   0   \n",
            "16   0   0   0   0   0   0   0   0   0   0  ...   0   0   0   0   0   0   0   \n",
            "3    0   0   0   0   0   0   0   0   0   0  ...   0   0   0   0   0   0   0   \n",
            "\n",
            "    97  98  99  \n",
            "61   0   0   0  \n",
            "39   0   0   0  \n",
            "7    0   0   0  \n",
            "16   0   0   0  \n",
            "3    0   0   0  \n",
            "\n",
            "[5 rows x 100 columns]\n",
            "Their estimated ratings:\n",
            "[0.81794731 0.85782639 1.19050642 0.87625457 0.29935439]\n"
          ]
        }
      ]
    },
    {
      "cell_type": "markdown",
      "source": [
        "Based on the Latent Hidden Model Recommendation System the top 5 businesses and thier correspondong similaritiy scores are: \n",
        "\n",
        "1. Papi's Cuban & Caribbean Grill with score of 1.1905064199911026\n",
        "2. Loca Luna with score of 0.876254570830219\n",
        "3. Farm Burger with score of 0.8578263876279594\n",
        "4. Seven Lamps with score of 0.8179473119616179\n",
        "5. Piece of Cake with score of 0.299354393760916"
      ],
      "metadata": {
        "id": "nix1quegYkQQ"
      }
    },
    {
      "cell_type": "code",
      "source": [
        "print(rAlex[:100])\n",
        "top5_indices = np.argsort(rAlex[:100])[-5:]\n",
        "print(business.iloc[top5_indices].values)"
      ],
      "metadata": {
        "colab": {
          "base_uri": "https://localhost:8080/"
        },
        "id": "DwLzQYrSNjQx",
        "outputId": "f437b37d-b84e-4c53-ecf9-562677402c38"
      },
      "execution_count": 65,
      "outputs": [
        {
          "output_type": "stream",
          "name": "stdout",
          "text": [
            "[7.27765431e-02 4.46080257e-01 9.20297611e-02 3.73017786e+00\n",
            " 1.07328700e-01 2.52136037e-02 2.13624343e-01 6.81093661e+00\n",
            " 1.57519835e-01 0.00000000e+00 6.72209047e-02 3.24961824e-02\n",
            " 2.16661315e-01 1.24426175e-01 5.88849632e-01 2.99669452e-02\n",
            " 5.85268103e+00 0.00000000e+00 7.28603947e-02 3.96074550e-03\n",
            " 0.00000000e+00 5.48597525e-02 1.83404335e-02 0.00000000e+00\n",
            " 5.78011568e-02 2.47991835e-02 8.97303170e-03 2.19899749e-02\n",
            " 1.32742652e-01 1.73937414e-01 4.86562881e-02 5.20543940e-03\n",
            " 1.82940433e-02 0.00000000e+00 0.00000000e+00 5.15667989e-02\n",
            " 2.51699057e+00 2.17289537e-01 4.51102241e-02 6.55881491e+00\n",
            " 2.31971571e-01 1.14928194e-01 4.11640968e-02 7.63770990e-02\n",
            " 2.17330003e+00 2.25916169e-02 3.16885118e-01 1.20220925e-01\n",
            " 0.00000000e+00 4.56668369e-02 7.49534336e-02 1.90381239e-02\n",
            " 2.67939919e-01 6.58877380e-02 1.59655874e-01 1.10761321e-01\n",
            " 6.75902484e-02 2.85095833e+00 9.99247857e-02 9.24055469e-02\n",
            " 8.95758519e-02 6.44036675e+00 2.16568719e-01 0.00000000e+00\n",
            " 4.99958674e-02 4.08567600e-01 1.92305004e-02 3.39953097e+00\n",
            " 6.49598715e-01 1.21366487e-01 3.46461811e+00 2.87023678e+00\n",
            " 5.35565141e-02 1.03079838e-01 3.65608613e-02 2.09362686e-02\n",
            " 1.13112390e-01 5.49666342e-02 1.40930171e-01 4.49024177e-02\n",
            " 1.23633576e-02 1.00115462e-01 5.64321437e-02 1.34693115e-02\n",
            " 3.52072756e-02 5.55441635e-02 4.18615259e-02 2.43589382e-02\n",
            " 2.15521565e+00 4.13508317e-01 6.59480844e-02 2.78181499e-01\n",
            " 4.52799606e-02 0.00000000e+00 7.99728047e-02 0.00000000e+00\n",
            " 1.01119070e-01 2.87986317e-02 2.40858380e+00 1.84283018e-01]\n",
            "[['Piece of Cake']\n",
            " ['Loca Luna']\n",
            " ['Seven Lamps']\n",
            " ['Farm Burger']\n",
            " [\"Papi's Cuban & Caribbean Grill\"]]\n"
          ]
        }
      ]
    }
  ]
}