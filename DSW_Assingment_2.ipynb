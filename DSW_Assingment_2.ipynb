{
  "nbformat": 4,
  "nbformat_minor": 0,
  "metadata": {
    "colab": {
      "provenance": []
    },
    "kernelspec": {
      "name": "python3",
      "display_name": "Python 3"
    },
    "language_info": {
      "name": "python"
    }
  },
  "cells": [
    {
      "cell_type": "code",
      "execution_count": null,
      "metadata": {
        "id": "NPL3-KuObkwW",
        "colab": {
          "base_uri": "https://localhost:8080/"
        },
        "outputId": "e3255366-7f63-467b-bf7a-3da70ef5618b"
      },
      "outputs": [
        {
          "output_type": "stream",
          "name": "stdout",
          "text": [
            "Mounted at /content/drive\n"
          ]
        }
      ],
      "source": [
        "from google.colab import drive\n",
        "drive.mount('/content/drive')"
      ]
    },
    {
      "cell_type": "code",
      "source": [
        "import pandas as pd\n",
        "import numpy as np\n",
        "from sklearn.metrics.pairwise import cosine_similarity\n",
        "from scipy.sparse.linalg import svds"
      ],
      "metadata": {
        "id": "_9cOR2xrfs_V"
      },
      "execution_count": null,
      "outputs": []
    },
    {
      "cell_type": "code",
      "source": [
        "df_bis = pd.read_csv(\"/content/drive/MyDrive/DSW_Assingment_2/data/business.csv\" , names=[\"name\"] )\n",
        "df_user_biz = pd.read_csv(\"/content/drive/MyDrive/DSW_Assingment_2/data/user-business.csv\",header=None )"
      ],
      "metadata": {
        "id": "nRpF845ufc-K"
      },
      "execution_count": null,
      "outputs": []
    },
    {
      "cell_type": "markdown",
      "source": [
        "# EDA "
      ],
      "metadata": {
        "id": "SF1fNYsOESow"
      }
    },
    {
      "cell_type": "code",
      "source": [
        "df_bis"
      ],
      "metadata": {
        "colab": {
          "base_uri": "https://localhost:8080/",
          "height": 423
        },
        "id": "O4HALsBMFjLo",
        "outputId": "f630550a-fe5d-4d13-867a-17e9ff57c2b8"
      },
      "execution_count": null,
      "outputs": [
        {
          "output_type": "execute_result",
          "data": {
            "text/plain": [
              "                            name\n",
              "0                Pittock Mansion\n",
              "1                Legal Sea Foods\n",
              "2    Eurasia Sushi Bar & Seafood\n",
              "3                  Piece of Cake\n",
              "4                  Sapporo Ramen\n",
              "..                           ...\n",
              "995             Birds Barbershop\n",
              "996   Portobello Vegan Trattoria\n",
              "997                    Bar Carlo\n",
              "998              Blue Moon Pizza\n",
              "999     Goodfellas Pizza & Wings\n",
              "\n",
              "[1000 rows x 1 columns]"
            ],
            "text/html": [
              "\n",
              "  <div id=\"df-12fb6a63-60e6-48fe-9b5c-61ae19daf3d2\">\n",
              "    <div class=\"colab-df-container\">\n",
              "      <div>\n",
              "<style scoped>\n",
              "    .dataframe tbody tr th:only-of-type {\n",
              "        vertical-align: middle;\n",
              "    }\n",
              "\n",
              "    .dataframe tbody tr th {\n",
              "        vertical-align: top;\n",
              "    }\n",
              "\n",
              "    .dataframe thead th {\n",
              "        text-align: right;\n",
              "    }\n",
              "</style>\n",
              "<table border=\"1\" class=\"dataframe\">\n",
              "  <thead>\n",
              "    <tr style=\"text-align: right;\">\n",
              "      <th></th>\n",
              "      <th>name</th>\n",
              "    </tr>\n",
              "  </thead>\n",
              "  <tbody>\n",
              "    <tr>\n",
              "      <th>0</th>\n",
              "      <td>Pittock Mansion</td>\n",
              "    </tr>\n",
              "    <tr>\n",
              "      <th>1</th>\n",
              "      <td>Legal Sea Foods</td>\n",
              "    </tr>\n",
              "    <tr>\n",
              "      <th>2</th>\n",
              "      <td>Eurasia Sushi Bar &amp; Seafood</td>\n",
              "    </tr>\n",
              "    <tr>\n",
              "      <th>3</th>\n",
              "      <td>Piece of Cake</td>\n",
              "    </tr>\n",
              "    <tr>\n",
              "      <th>4</th>\n",
              "      <td>Sapporo Ramen</td>\n",
              "    </tr>\n",
              "    <tr>\n",
              "      <th>...</th>\n",
              "      <td>...</td>\n",
              "    </tr>\n",
              "    <tr>\n",
              "      <th>995</th>\n",
              "      <td>Birds Barbershop</td>\n",
              "    </tr>\n",
              "    <tr>\n",
              "      <th>996</th>\n",
              "      <td>Portobello Vegan Trattoria</td>\n",
              "    </tr>\n",
              "    <tr>\n",
              "      <th>997</th>\n",
              "      <td>Bar Carlo</td>\n",
              "    </tr>\n",
              "    <tr>\n",
              "      <th>998</th>\n",
              "      <td>Blue Moon Pizza</td>\n",
              "    </tr>\n",
              "    <tr>\n",
              "      <th>999</th>\n",
              "      <td>Goodfellas Pizza &amp; Wings</td>\n",
              "    </tr>\n",
              "  </tbody>\n",
              "</table>\n",
              "<p>1000 rows × 1 columns</p>\n",
              "</div>\n",
              "      <button class=\"colab-df-convert\" onclick=\"convertToInteractive('df-12fb6a63-60e6-48fe-9b5c-61ae19daf3d2')\"\n",
              "              title=\"Convert this dataframe to an interactive table.\"\n",
              "              style=\"display:none;\">\n",
              "        \n",
              "  <svg xmlns=\"http://www.w3.org/2000/svg\" height=\"24px\"viewBox=\"0 0 24 24\"\n",
              "       width=\"24px\">\n",
              "    <path d=\"M0 0h24v24H0V0z\" fill=\"none\"/>\n",
              "    <path d=\"M18.56 5.44l.94 2.06.94-2.06 2.06-.94-2.06-.94-.94-2.06-.94 2.06-2.06.94zm-11 1L8.5 8.5l.94-2.06 2.06-.94-2.06-.94L8.5 2.5l-.94 2.06-2.06.94zm10 10l.94 2.06.94-2.06 2.06-.94-2.06-.94-.94-2.06-.94 2.06-2.06.94z\"/><path d=\"M17.41 7.96l-1.37-1.37c-.4-.4-.92-.59-1.43-.59-.52 0-1.04.2-1.43.59L10.3 9.45l-7.72 7.72c-.78.78-.78 2.05 0 2.83L4 21.41c.39.39.9.59 1.41.59.51 0 1.02-.2 1.41-.59l7.78-7.78 2.81-2.81c.8-.78.8-2.07 0-2.86zM5.41 20L4 18.59l7.72-7.72 1.47 1.35L5.41 20z\"/>\n",
              "  </svg>\n",
              "      </button>\n",
              "      \n",
              "  <style>\n",
              "    .colab-df-container {\n",
              "      display:flex;\n",
              "      flex-wrap:wrap;\n",
              "      gap: 12px;\n",
              "    }\n",
              "\n",
              "    .colab-df-convert {\n",
              "      background-color: #E8F0FE;\n",
              "      border: none;\n",
              "      border-radius: 50%;\n",
              "      cursor: pointer;\n",
              "      display: none;\n",
              "      fill: #1967D2;\n",
              "      height: 32px;\n",
              "      padding: 0 0 0 0;\n",
              "      width: 32px;\n",
              "    }\n",
              "\n",
              "    .colab-df-convert:hover {\n",
              "      background-color: #E2EBFA;\n",
              "      box-shadow: 0px 1px 2px rgba(60, 64, 67, 0.3), 0px 1px 3px 1px rgba(60, 64, 67, 0.15);\n",
              "      fill: #174EA6;\n",
              "    }\n",
              "\n",
              "    [theme=dark] .colab-df-convert {\n",
              "      background-color: #3B4455;\n",
              "      fill: #D2E3FC;\n",
              "    }\n",
              "\n",
              "    [theme=dark] .colab-df-convert:hover {\n",
              "      background-color: #434B5C;\n",
              "      box-shadow: 0px 1px 3px 1px rgba(0, 0, 0, 0.15);\n",
              "      filter: drop-shadow(0px 1px 2px rgba(0, 0, 0, 0.3));\n",
              "      fill: #FFFFFF;\n",
              "    }\n",
              "  </style>\n",
              "\n",
              "      <script>\n",
              "        const buttonEl =\n",
              "          document.querySelector('#df-12fb6a63-60e6-48fe-9b5c-61ae19daf3d2 button.colab-df-convert');\n",
              "        buttonEl.style.display =\n",
              "          google.colab.kernel.accessAllowed ? 'block' : 'none';\n",
              "\n",
              "        async function convertToInteractive(key) {\n",
              "          const element = document.querySelector('#df-12fb6a63-60e6-48fe-9b5c-61ae19daf3d2');\n",
              "          const dataTable =\n",
              "            await google.colab.kernel.invokeFunction('convertToInteractive',\n",
              "                                                     [key], {});\n",
              "          if (!dataTable) return;\n",
              "\n",
              "          const docLinkHtml = 'Like what you see? Visit the ' +\n",
              "            '<a target=\"_blank\" href=https://colab.research.google.com/notebooks/data_table.ipynb>data table notebook</a>'\n",
              "            + ' to learn more about interactive tables.';\n",
              "          element.innerHTML = '';\n",
              "          dataTable['output_type'] = 'display_data';\n",
              "          await google.colab.output.renderOutput(dataTable, element);\n",
              "          const docLink = document.createElement('div');\n",
              "          docLink.innerHTML = docLinkHtml;\n",
              "          element.appendChild(docLink);\n",
              "        }\n",
              "      </script>\n",
              "    </div>\n",
              "  </div>\n",
              "  "
            ]
          },
          "metadata": {},
          "execution_count": 4
        }
      ]
    },
    {
      "cell_type": "code",
      "source": [
        "df_user_biz.head"
      ],
      "metadata": {
        "colab": {
          "base_uri": "https://localhost:8080/"
        },
        "id": "oNp9TrsGIpr6",
        "outputId": "b6b87dbe-7a1b-41a4-f49d-05f2ac1b19da"
      },
      "execution_count": null,
      "outputs": [
        {
          "output_type": "execute_result",
          "data": {
            "text/plain": [
              "<bound method NDFrame.head of        0    1    2    3    4    5    6    7    8    9    ...  990  991  992  \\\n",
              "0        0    0    0    0    0    0    0    0    0    0  ...    0    0    0   \n",
              "1        0    0    0    0    0    0    0    0    0    0  ...    0    0    0   \n",
              "2        0    0    0    0    0    0    0    0    0    0  ...    0    0    0   \n",
              "3        0    0    0    0    0    0    0    0    0    0  ...    0    0    1   \n",
              "4        0    0    0    0    0    0    0    0    0    0  ...    0    0    0   \n",
              "...    ...  ...  ...  ...  ...  ...  ...  ...  ...  ...  ...  ...  ...  ...   \n",
              "14392    0    0    0    0    0    0    0    0    0    0  ...    0    0    0   \n",
              "14393    0    0    0    0    0    0    0    0    0    0  ...    0    0    0   \n",
              "14394    0    0    0    0    0    0    0    0    0    0  ...    0    0    0   \n",
              "14395    0    0    0    0    0    0    0    0    0    0  ...    0    0    0   \n",
              "14396    0    0    0    0    0    0    0    0    0    0  ...    0    0    0   \n",
              "\n",
              "       993  994  995  996  997  998  999  \n",
              "0        0    0    0    0    0    0    0  \n",
              "1        0    0    0    0    0    0    0  \n",
              "2        0    0    0    0    0    0    0  \n",
              "3        0    0    0    0    0    0    0  \n",
              "4        0    0    0    0    0    0    0  \n",
              "...    ...  ...  ...  ...  ...  ...  ...  \n",
              "14392    0    0    0    0    0    0    0  \n",
              "14393    0    0    0    0    0    0    0  \n",
              "14394    0    0    0    0    0    0    0  \n",
              "14395    0    0    0    0    0    0    0  \n",
              "14396    0    0    0    0    0    0    0  \n",
              "\n",
              "[14397 rows x 1000 columns]>"
            ]
          },
          "metadata": {},
          "execution_count": 5
        }
      ]
    },
    {
      "cell_type": "code",
      "source": [
        "\n",
        "df_user_biz.iloc[3].value_counts()"
      ],
      "metadata": {
        "colab": {
          "base_uri": "https://localhost:8080/"
        },
        "id": "ZN_C8w25JPU6",
        "outputId": "fad9b66e-1925-40d5-b85f-9779c8b997b7"
      },
      "execution_count": null,
      "outputs": [
        {
          "output_type": "execute_result",
          "data": {
            "text/plain": [
              "0    929\n",
              "1     71\n",
              "Name: 3, dtype: int64"
            ]
          },
          "metadata": {},
          "execution_count": 6
        }
      ]
    },
    {
      "cell_type": "code",
      "source": [
        "\n",
        "df_user_biz.iloc[2000].value_counts()"
      ],
      "metadata": {
        "colab": {
          "base_uri": "https://localhost:8080/"
        },
        "id": "pe4a90FvfdDj",
        "outputId": "571609f6-b86f-4989-f380-cdc64d43c1a6"
      },
      "execution_count": null,
      "outputs": [
        {
          "output_type": "execute_result",
          "data": {
            "text/plain": [
              "0    991\n",
              "1      9\n",
              "Name: 2000, dtype: int64"
            ]
          },
          "metadata": {},
          "execution_count": 7
        }
      ]
    },
    {
      "cell_type": "code",
      "source": [
        "\n",
        "\n",
        "R = df_user_biz.copy()\n",
        "R_first_100 = R.iloc[:, :100]\n",
        "\n",
        "alex_ratings = R.iloc[3]\n",
        "alex_ratings_excluding_100 = alex_ratings.iloc[100:]\n",
        "others_ratings_excluding_100 = R.drop(3, axis=0).iloc[:, 100:]\n",
        "\n",
        "cos_similarities = cosine_similarity([alex_ratings_excluding_100], others_ratings_excluding_100)\n",
        "cos_similarities = pd.Series(cos_similarities.flatten(), index=others_ratings_excluding_100.index)\n",
        "\n",
        "# Compute rAlex,b for all businesses in S\n",
        "rAlex = R_first_100.apply(lambda col: np.sum(col * cos_similarities), axis=0)\n",
        "\n",
        "# Find the five businesses with the highest similarity scores\n",
        "top_5_business_indices = rAlex.nlargest(5).index\n",
        "\n",
        "\n",
        "\n",
        "\n"
      ],
      "metadata": {
        "id": "verWK_XJVYSW"
      },
      "execution_count": null,
      "outputs": []
    },
    {
      "cell_type": "code",
      "source": [
        "top_5_business_scores = rAlex[top_5_business_indices].tolist()"
      ],
      "metadata": {
        "id": "1rohxxrZt19a"
      },
      "execution_count": null,
      "outputs": []
    },
    {
      "cell_type": "code",
      "source": [
        "\n",
        "top_5_business_names =[]\n",
        "\n",
        "\n",
        "for i in top_5_business_indices:\n",
        "  top_5_business_names.append(df_bis.iloc[i][\"name\"])\n",
        "\n",
        "\n",
        "for i in range(len(top_5_business_names)):\n",
        "  print(f\"{top_5_business_names[i]} with score of {top_5_business_scores[i]}\")\n"
      ],
      "metadata": {
        "colab": {
          "base_uri": "https://localhost:8080/"
        },
        "id": "1BNHsdnvVf2v",
        "outputId": "b21429ae-9da8-4fb7-bd8b-14ba8973116f"
      },
      "execution_count": null,
      "outputs": [
        {
          "output_type": "stream",
          "name": "stdout",
          "text": [
            "Papi's Cuban & Caribbean Grill with score of 43.039526922656655\n",
            "Seven Lamps with score of 33.59818777689091\n",
            "Loca Luna with score of 33.26322496381452\n",
            "Farm Burger with score of 32.78294005958858\n",
            "Piece of Cake with score of 12.626244095828584\n"
          ]
        }
      ]
    },
    {
      "cell_type": "code",
      "source": [],
      "metadata": {
        "id": "X2goLe3SttMX"
      },
      "execution_count": null,
      "outputs": []
    },
    {
      "cell_type": "markdown",
      "source": [
        "## PART 2"
      ],
      "metadata": {
        "id": "6HM2XMK1wrox"
      }
    },
    {
      "cell_type": "code",
      "source": [
        "\n",
        "\n",
        "R_no_alex = R.drop(3, axis=0)\n",
        "item_cos_similarities = cosine_similarity(R_no_alex.T)\n",
        "\n",
        "alex_ratings = R.iloc[3]\n",
        "rAlex = np.dot(item_cos_similarities, alex_ratings)[:100]\n",
        "\n",
        "\n",
        "top_5_business_indices = rAlex.argsort()[-5:][::-1]\n",
        "top_5_business_scores = rAlex[top_5_business_indices]\n",
        "\n",
        "\n"
      ],
      "metadata": {
        "id": "qmPl-lqTwtyS"
      },
      "execution_count": null,
      "outputs": []
    },
    {
      "cell_type": "code",
      "source": [
        "\n",
        "top_5_business_names =[]\n",
        "\n",
        "\n",
        "for i in top_5_business_indices:\n",
        "  top_5_business_names.append(df_bis.iloc[i][\"name\"])\n",
        "\n",
        "\n",
        "for i in range(len(top_5_business_names)):\n",
        "  print(f\"{top_5_business_names[i]} with score of {top_5_business_scores[i]}\")"
      ],
      "metadata": {
        "colab": {
          "base_uri": "https://localhost:8080/"
        },
        "id": "7PT7C-mxwt00",
        "outputId": "5a7a6b8a-8ad6-40e6-f336-e3114e0dd155"
      },
      "execution_count": null,
      "outputs": [
        {
          "output_type": "stream",
          "name": "stdout",
          "text": [
            "Papi's Cuban & Caribbean Grill with score of 6.810936608775577\n",
            "Farm Burger with score of 6.558814913234692\n",
            "Seven Lamps with score of 6.440366746451209\n",
            "Loca Luna with score of 5.852681031550378\n",
            "Piece of Cake with score of 3.730177864424377\n"
          ]
        }
      ]
    },
    {
      "cell_type": "code",
      "source": [],
      "metadata": {
        "id": "wVXIXH6Ewt4f"
      },
      "execution_count": null,
      "outputs": []
    },
    {
      "cell_type": "markdown",
      "source": [
        "## Part 3"
      ],
      "metadata": {
        "id": "HUffyUmEM8Ui"
      }
    },
    {
      "cell_type": "code",
      "source": [
        "U, sigma, Vt = svds(R.to_numpy(dtype=np.float64), k=10)\n",
        "\n",
        "\n",
        "sigma = np.diag(sigma)\n",
        "\n",
        "R_estimated = np.dot(np.dot(U, sigma), Vt)\n",
        "\n",
        "\n",
        "alex_ratings_estimated = R_estimated[3, :100]\n",
        "top_5_business_indices = alex_ratings_estimated.argsort()[-5:][::-1]\n",
        "top_5_business_scores = alex_ratings_estimated[top_5_business_indices]"
      ],
      "metadata": {
        "id": "v_0QeBtVwt6u"
      },
      "execution_count": null,
      "outputs": []
    },
    {
      "cell_type": "code",
      "source": [
        "\n",
        "top_5_business_names =[]\n",
        "\n",
        "\n",
        "for i in top_5_business_indices:\n",
        "  top_5_business_names.append(df_bis.iloc[i][\"name\"])\n",
        "\n",
        "\n",
        "for i in range(len(top_5_business_names)):\n",
        "  print(f\"{top_5_business_names[i]} with score of {top_5_business_scores[i]}\")"
      ],
      "metadata": {
        "colab": {
          "base_uri": "https://localhost:8080/"
        },
        "id": "jK5WO5HDwt8z",
        "outputId": "4d40141e-9bf7-4fcd-83e3-7204e6be847b"
      },
      "execution_count": null,
      "outputs": [
        {
          "output_type": "stream",
          "name": "stdout",
          "text": [
            "Papi's Cuban & Caribbean Grill with score of 1.1905064199911026\n",
            "Loca Luna with score of 0.876254570830219\n",
            "Farm Burger with score of 0.8578263876279594\n",
            "Seven Lamps with score of 0.8179473119616179\n",
            "Piece of Cake with score of 0.299354393760916\n"
          ]
        }
      ]
    },
    {
      "cell_type": "code",
      "source": [],
      "metadata": {
        "id": "WWhC6a4awt_2"
      },
      "execution_count": null,
      "outputs": []
    },
    {
      "cell_type": "code",
      "source": [],
      "metadata": {
        "id": "IXmTR1T2Oi_P"
      },
      "execution_count": null,
      "outputs": []
    },
    {
      "cell_type": "code",
      "source": [],
      "metadata": {
        "id": "SaAGSf-UOjCi"
      },
      "execution_count": null,
      "outputs": []
    }
  ]
}